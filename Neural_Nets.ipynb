{
  "nbformat": 4,
  "nbformat_minor": 0,
  "metadata": {
    "colab": {
      "name": "Neural_Nets.ipynb",
      "version": "0.3.2",
      "provenance": [],
      "include_colab_link": true
    },
    "kernelspec": {
      "display_name": "Python 3",
      "language": "python",
      "name": "python3"
    }
  },
  "cells": [
    {
      "cell_type": "markdown",
      "metadata": {
        "id": "view-in-github",
        "colab_type": "text"
      },
      "source": [
        "<a href=\"https://colab.research.google.com/github/cwy20030/Machine-Learning-Workshop/blob/master/Neural_Nets.ipynb\" target=\"_parent\"><img src=\"https://colab.research.google.com/assets/colab-badge.svg\" alt=\"Open In Colab\"/></a>"
      ]
    },
    {
      "metadata": {
        "id": "ZYkQ_o_NnU3v",
        "colab_type": "code",
        "outputId": "b2657cb5-c53d-4a1d-f4cf-f421eaee600a",
        "colab": {}
      },
      "cell_type": "code",
      "source": [
        "import keras\n",
        "from keras.datasets import mnist\n",
        "from keras.models import Sequential\n",
        "from keras.layers import Dense, Dropout\n",
        "from keras.optimizers import RMSprop\n",
        "import sklearn.metrics\n",
        "import matplotlib.pyplot as plt\n",
        "from copy import deepcopy"
      ],
      "execution_count": 0,
      "outputs": [
        {
          "output_type": "stream",
          "text": [
            "Using TensorFlow backend.\n"
          ],
          "name": "stderr"
        }
      ]
    },
    {
      "metadata": {
        "id": "Pwp6_wu3nU37",
        "colab_type": "code",
        "colab": {}
      },
      "cell_type": "code",
      "source": [
        "batch_size = 128\n",
        "num_classes = 10\n",
        "epochs = 2"
      ],
      "execution_count": 0,
      "outputs": []
    },
    {
      "metadata": {
        "id": "9Bb9vLemnU4B",
        "colab_type": "code",
        "colab": {}
      },
      "cell_type": "code",
      "source": [
        "(x_train, y_train), (x_test, y_test) = mnist.load_data()"
      ],
      "execution_count": 0,
      "outputs": []
    },
    {
      "metadata": {
        "id": "X-Fjt-2LnU4G",
        "colab_type": "code",
        "outputId": "a5dab1da-6e5f-4447-b7b1-9e185343cf69",
        "colab": {}
      },
      "cell_type": "code",
      "source": [
        "x_train = x_train.reshape(60000, 784)\n",
        "x_test = x_test.reshape(10000, 784)\n",
        "x_train = x_train.astype('float32')\n",
        "x_test = x_test.astype('float32')\n",
        "x_train /= 255\n",
        "x_test /= 255\n",
        "print(x_train.shape[0], 'train samples')\n",
        "print(x_test.shape[0], 'test samples')\n",
        "y_test_ = deepcopy(y_test)"
      ],
      "execution_count": 0,
      "outputs": [
        {
          "output_type": "stream",
          "text": [
            "60000 train samples\n",
            "10000 test samples\n"
          ],
          "name": "stdout"
        }
      ]
    },
    {
      "metadata": {
        "id": "Du-BCGOFnU4N",
        "colab_type": "code",
        "colab": {}
      },
      "cell_type": "code",
      "source": [
        "# convert class vectors to binary class matrices\n",
        "y_train = keras.utils.to_categorical(y_train, num_classes)\n",
        "y_test = keras.utils.to_categorical(y_test, num_classes)"
      ],
      "execution_count": 0,
      "outputs": []
    },
    {
      "metadata": {
        "id": "RIoH2WqEnU4R",
        "colab_type": "code",
        "colab": {}
      },
      "cell_type": "code",
      "source": [
        "model = Sequential()\n",
        "model.add(Dense(512, activation='relu', input_shape=(784,)))\n",
        "#model.add(Dropout(0.2))\n",
        "model.add(Dense(512, activation='relu'))\n",
        "#model.add(Dropout(0.2))\n",
        "model.add(Dense(num_classes, activation='softmax'))"
      ],
      "execution_count": 0,
      "outputs": []
    },
    {
      "metadata": {
        "id": "sVg2efhInU4Z",
        "colab_type": "code",
        "outputId": "e1235a15-5484-43f2-db5a-38b86a8f9c52",
        "colab": {}
      },
      "cell_type": "code",
      "source": [
        "model.summary()\n",
        "\n",
        "model.compile(loss='categorical_crossentropy',\n",
        "              optimizer=RMSprop(),\n",
        "              metrics=['accuracy'])"
      ],
      "execution_count": 0,
      "outputs": [
        {
          "output_type": "stream",
          "text": [
            "_________________________________________________________________\n",
            "Layer (type)                 Output Shape              Param #   \n",
            "=================================================================\n",
            "dense_1 (Dense)              (None, 512)               401920    \n",
            "_________________________________________________________________\n",
            "dense_2 (Dense)              (None, 512)               262656    \n",
            "_________________________________________________________________\n",
            "dense_3 (Dense)              (None, 10)                5130      \n",
            "=================================================================\n",
            "Total params: 669,706\n",
            "Trainable params: 669,706\n",
            "Non-trainable params: 0\n",
            "_________________________________________________________________\n"
          ],
          "name": "stdout"
        }
      ]
    },
    {
      "metadata": {
        "id": "nO_RaOkonU4f",
        "colab_type": "code",
        "outputId": "4756bc65-27d0-42af-bec3-834e2df673d4",
        "colab": {}
      },
      "cell_type": "code",
      "source": [
        "history = model.fit(x_train, y_train,\n",
        "                    batch_size=batch_size,\n",
        "                    epochs=epochs,\n",
        "                    verbose=1,\n",
        "                    validation_data=(x_test, y_test))\n",
        "score = model.evaluate(x_test, y_test, verbose=0)"
      ],
      "execution_count": 0,
      "outputs": [
        {
          "output_type": "stream",
          "text": [
            "Train on 60000 samples, validate on 10000 samples\n",
            "Epoch 1/2\n",
            "60000/60000 [==============================] - 12s - loss: 0.2215 - acc: 0.9328 - val_loss: 0.1613 - val_acc: 0.9468\n",
            "Epoch 2/2\n",
            "60000/60000 [==============================] - 12s - loss: 0.0823 - acc: 0.9745 - val_loss: 0.0884 - val_acc: 0.9736\n"
          ],
          "name": "stdout"
        }
      ]
    },
    {
      "metadata": {
        "id": "rRQ_tugWnU4m",
        "colab_type": "code",
        "outputId": "59c17201-5c62-457a-89e2-8a2ab40c456f",
        "colab": {}
      },
      "cell_type": "code",
      "source": [
        "print('Test loss:', score[0])\n",
        "print('Test accuracy:', score[1])"
      ],
      "execution_count": 0,
      "outputs": [
        {
          "output_type": "stream",
          "text": [
            "Test loss: 0.0883603758725\n",
            "Test accuracy: 0.9736\n"
          ],
          "name": "stdout"
        }
      ]
    },
    {
      "metadata": {
        "id": "GeCKYRmdnU4s",
        "colab_type": "code",
        "outputId": "7c9a7d59-2d1c-4174-eeb2-8cc43e72a93a",
        "colab": {}
      },
      "cell_type": "code",
      "source": [
        "image_index = 10\n",
        "plt.gray()\n",
        "plt.matshow(x_train[image_index,:].reshape(28,28))\n",
        "plt.show()\n",
        "print(model.predict(x_train[image_index,:].reshape(1,784)))\n",
        "print(y_train[image_index])"
      ],
      "execution_count": 0,
      "outputs": [
        {
          "output_type": "display_data",
          "data": {
            "text/plain": [
              "<matplotlib.figure.Figure at 0x1322350f0>"
            ]
          },
          "metadata": {
            "tags": []
          }
        },
        {
          "output_type": "display_data",
          "data": {
            "image/png": "[encoded data removed]",
            "text/plain": [
              "<matplotlib.figure.Figure at 0x132235128>"
            ]
          },
          "metadata": {
            "tags": []
          }
        },
        {
          "output_type": "stream",
          "text": [
            "[[  3.20166398e-12   9.62883800e-11   1.60459895e-10   9.99997616e-01\n",
            "    2.65222685e-13   1.15396745e-06   1.56292264e-15   1.33982018e-11\n",
            "    2.47744971e-08   1.18790354e-06]]\n",
            "[ 0.  0.  0.  1.  0.  0.  0.  0.  0.  0.]\n"
          ],
          "name": "stdout"
        }
      ]
    },
    {
      "metadata": {
        "id": "VOVbGA6UnU67",
        "colab_type": "code",
        "outputId": "adbc7b95-b2ee-4b1f-dcf6-a0aac088d7fd",
        "colab": {}
      },
      "cell_type": "code",
      "source": [
        "sklearn.metrics.confusion_matrix(y_test_,model.predict_classes(x_test))"
      ],
      "execution_count": 0,
      "outputs": [
        {
          "output_type": "stream",
          "text": [
            " 9856/10000 [============================>.] - ETA: 0s"
          ],
          "name": "stdout"
        },
        {
          "output_type": "execute_result",
          "data": {
            "text/plain": [
              "array([[ 973,    0,    0,    0,    1,    0,    1,    1,    4,    0],\n",
              "       [   0, 1110,    2,    3,    0,    0,    5,    0,   15,    0],\n",
              "       [   7,    0, 1014,    1,    1,    0,    3,    2,    4,    0],\n",
              "       [   2,    0,    8,  983,    0,    3,    0,    3,    7,    4],\n",
              "       [   1,    0,    4,    0,  959,    0,    4,    1,    2,   11],\n",
              "       [   3,    0,    0,    5,    1,  867,   10,    0,    5,    1],\n",
              "       [   9,    2,    0,    1,    4,    1,  939,    0,    2,    0],\n",
              "       [   5,    3,   17,    5,    1,    0,    0,  976,    4,   17],\n",
              "       [  11,    0,    5,    4,    2,    2,    5,    1,  941,    3],\n",
              "       [   7,    2,    0,    7,    8,    4,    1,    0,    6,  974]])"
            ]
          },
          "metadata": {
            "tags": []
          },
          "execution_count": 11
        }
      ]
    }
  ]
}