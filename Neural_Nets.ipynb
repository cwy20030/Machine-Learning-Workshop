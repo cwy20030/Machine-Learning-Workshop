{
  "nbformat": 4,
  "nbformat_minor": 0,
  "metadata": {
    "colab": {
      "name": "Neural_Nets.ipynb",
      "version": "0.3.2",
      "provenance": [],
      "include_colab_link": true
    },
    "kernelspec": {
      "display_name": "Python 3",
      "language": "python",
      "name": "python3"
    }
  },
  "cells": [
    {
      "cell_type": "markdown",
      "metadata": {
        "id": "view-in-github",
        "colab_type": "text"
      },
      "source": [
        "<a href=\"https://colab.research.google.com/github/cwy20030/Machine-Learning-Workshop/blob/master/Neural_Nets.ipynb\" target=\"_parent\"><img src=\"https://colab.research.google.com/assets/colab-badge.svg\" alt=\"Open In Colab\"/></a>"
      ]
    },
    {
      "metadata": {
        "id": "ZYkQ_o_NnU3v",
        "colab_type": "code",
        "colab": {}
      },
      "cell_type": "code",
      "source": [
        "import keras\n",
        "from keras.datasets import mnist\n",
        "from keras.models import Sequential\n",
        "from keras.layers import Dense, Dropout\n",
        "from keras.optimizers import RMSprop\n",
        "import sklearn.metrics\n",
        "import matplotlib.pyplot as plt\n",
        "from copy import deepcopy\n",
        "#import numpy.random.rand as rand\n",
        "#rand.seed(int_value)"
      ],
      "execution_count": 0,
      "outputs": []
    },
    {
      "metadata": {
        "id": "Pwp6_wu3nU37",
        "colab_type": "code",
        "colab": {}
      },
      "cell_type": "code",
      "source": [
        "batch_size = 128 #4\n",
        "num_classes = 10\n",
        "epochs = 10\n",
        "\n",
        "#1280 : 10 updates vs 1280 updates\n",
        "\n",
        "#100 datapoints: SGD - update after every datapoint: 100 updates\n",
        "#              : GD - update after 100 datapoints: 1 update\n",
        "# Mini-batch SGD: 10 : update after 10 datapoints: 10 updates"
      ],
      "execution_count": 0,
      "outputs": []
    },
    {
      "metadata": {
        "id": "9Bb9vLemnU4B",
        "colab_type": "code",
        "outputId": "3ae47877-0ed2-4bf6-89eb-f7772dcf7e4d",
        "colab": {
          "base_uri": "https://localhost:8080/",
          "height": 35
        }
      },
      "cell_type": "code",
      "source": [
        "(x_train, y_train), (x_test, y_test) = mnist.load_data()\n",
        "print(x_train.shape)"
      ],
      "execution_count": 0,
      "outputs": [
        {
          "output_type": "stream",
          "text": [
            "(60000, 28, 28)\n"
          ],
          "name": "stdout"
        }
      ]
    },
    {
      "metadata": {
        "id": "X-Fjt-2LnU4G",
        "colab_type": "code",
        "outputId": "46642525-9dfb-418f-984b-ec3535619496",
        "colab": {
          "base_uri": "https://localhost:8080/",
          "height": 52
        }
      },
      "cell_type": "code",
      "source": [
        "x_train = x_train.reshape(60000, 784)\n",
        "x_test = x_test.reshape(10000, 784)\n",
        "x_train = x_train.astype('float32')\n",
        "x_test = x_test.astype('float32')\n",
        "x_train /= 255 # xtrain = xtrain/255\n",
        "x_test /= 255 \n",
        "print(x_train.shape[0], 'train samples')\n",
        "print(x_test.shape[0], 'test samples')\n",
        "y_test_ = deepcopy(y_test)\n",
        "#y_test_ = y_test"
      ],
      "execution_count": 0,
      "outputs": [
        {
          "output_type": "stream",
          "text": [
            "60000 train samples\n",
            "10000 test samples\n"
          ],
          "name": "stdout"
        }
      ]
    },
    {
      "metadata": {
        "id": "uE3SQmW6_lbj",
        "colab_type": "code",
        "outputId": "fd94b5d3-6b08-472b-dbdb-d065885a1776",
        "colab": {
          "base_uri": "https://localhost:8080/",
          "height": 123
        }
      },
      "cell_type": "code",
      "source": [
        "r_1 = [1,2,3]\n",
        "r_2 = r_1\n",
        "r_3 = deepcopy(r_1)\n",
        "print('r_1',r_1)\n",
        "print('r_2',r_2)\n",
        "print('r_3',r_3)\n",
        "\n",
        "r_1.remove(3)\n",
        "\n",
        "print('r_1',r_1)\n",
        "print('r_2',r_2)\n",
        "print('r_3',r_3)"
      ],
      "execution_count": 0,
      "outputs": [
        {
          "output_type": "stream",
          "text": [
            "r_1 [1, 2, 3]\n",
            "r_2 [1, 2, 3]\n",
            "r_3 [1, 2, 3]\n",
            "r_1 [1, 2]\n",
            "r_2 [1, 2]\n",
            "r_3 [1, 2, 3]\n"
          ],
          "name": "stdout"
        }
      ]
    },
    {
      "metadata": {
        "id": "Du-BCGOFnU4N",
        "colab_type": "code",
        "colab": {}
      },
      "cell_type": "code",
      "source": [
        "# convert class vectors to binary class matrices\n",
        "y_train = keras.utils.to_categorical(y_train, num_classes)\n",
        "y_test = keras.utils.to_categorical(y_test, num_classes)\n",
        "\n",
        "#input = image_3\n",
        "#target = 3\n",
        "#[0,1,2,3,4,5,6,7,8,9]\n",
        "#[0,0,0,1,0,0,0,0,0,0]"
      ],
      "execution_count": 0,
      "outputs": []
    },
    {
      "metadata": {
        "id": "RIoH2WqEnU4R",
        "colab_type": "code",
        "colab": {}
      },
      "cell_type": "code",
      "source": [
        "model = Sequential() # i(784) -W-> h1 (512) -drop 0.2 -> h2 (512) - -> o (10)  \n",
        "# W*i\n",
        "# h2 = W_hh * h1 dropouts: W_hh * dropped_out_h1\n",
        "# pre_i = max(0, a_i) a_i = -0.1, 0.1\n",
        "model.add(Dense(512, activation='relu', input_shape=(784,)))\n",
        "model.add(Dropout(0.3))\n",
        "# r = random.rand() : (0,1)\n",
        "# if r<0.2:\n",
        "#  activated_i = 0\n",
        "model.add(Dense(512, activation='relu'))\n",
        "model.add(Dropout(0.2))\n",
        "model.add(Dense(num_classes, activation='softmax')) #[p_1,..,p_10] p_i >0 \\sum p_i = 1"
      ],
      "execution_count": 0,
      "outputs": []
    },
    {
      "metadata": {
        "id": "sVg2efhInU4Z",
        "colab_type": "code",
        "outputId": "59fb7771-7a3a-474c-88de-838ba46b61df",
        "colab": {
          "base_uri": "https://localhost:8080/",
          "height": 316
        }
      },
      "cell_type": "code",
      "source": [
        "model.summary()\n",
        "\n",
        "model.compile(loss='categorical_crossentropy',\n",
        "              optimizer=RMSprop(),\n",
        "              metrics=['accuracy'])"
      ],
      "execution_count": 0,
      "outputs": [
        {
          "output_type": "stream",
          "text": [
            "_________________________________________________________________\n",
            "Layer (type)                 Output Shape              Param #   \n",
            "=================================================================\n",
            "dense_16 (Dense)             (None, 512)               401920    \n",
            "_________________________________________________________________\n",
            "dropout_1 (Dropout)          (None, 512)               0         \n",
            "_________________________________________________________________\n",
            "dense_17 (Dense)             (None, 512)               262656    \n",
            "_________________________________________________________________\n",
            "dropout_2 (Dropout)          (None, 512)               0         \n",
            "_________________________________________________________________\n",
            "dense_18 (Dense)             (None, 10)                5130      \n",
            "=================================================================\n",
            "Total params: 669,706\n",
            "Trainable params: 669,706\n",
            "Non-trainable params: 0\n",
            "_________________________________________________________________\n"
          ],
          "name": "stdout"
        }
      ]
    },
    {
      "metadata": {
        "id": "nO_RaOkonU4f",
        "colab_type": "code",
        "outputId": "e2b35c42-d459-4589-83d1-201a014c6615",
        "colab": {
          "base_uri": "https://localhost:8080/",
          "height": 407
        }
      },
      "cell_type": "code",
      "source": [
        "history = model.fit(x_train, y_train,\n",
        "                    batch_size=batch_size,\n",
        "                    epochs=epochs,\n",
        "                    verbose=1,\n",
        "                    validation_data=(x_test, y_test))\n",
        "score = model.evaluate(x_test, y_test, verbose=0) #0.9829"
      ],
      "execution_count": 0,
      "outputs": [
        {
          "output_type": "stream",
          "text": [
            "Train on 60000 samples, validate on 10000 samples\n",
            "Epoch 1/10\n",
            "60000/60000 [==============================] - 10s 170us/step - loss: 0.2596 - acc: 0.9198 - val_loss: 0.1143 - val_acc: 0.9622\n",
            "Epoch 2/10\n",
            "60000/60000 [==============================] - 10s 167us/step - loss: 0.1138 - acc: 0.9656 - val_loss: 0.0931 - val_acc: 0.9715\n",
            "Epoch 3/10\n",
            "60000/60000 [==============================] - 10s 171us/step - loss: 0.0863 - acc: 0.9738 - val_loss: 0.0888 - val_acc: 0.9767\n",
            "Epoch 4/10\n",
            "60000/60000 [==============================] - 10s 169us/step - loss: 0.0711 - acc: 0.9787 - val_loss: 0.0714 - val_acc: 0.9806\n",
            "Epoch 5/10\n",
            "60000/60000 [==============================] - 10s 169us/step - loss: 0.0604 - acc: 0.9816 - val_loss: 0.0770 - val_acc: 0.9799\n",
            "Epoch 6/10\n",
            "60000/60000 [==============================] - 10s 170us/step - loss: 0.0550 - acc: 0.9840 - val_loss: 0.0752 - val_acc: 0.9812\n",
            "Epoch 7/10\n",
            "60000/60000 [==============================] - 10s 169us/step - loss: 0.0512 - acc: 0.9851 - val_loss: 0.0686 - val_acc: 0.9833\n",
            "Epoch 8/10\n",
            "60000/60000 [==============================] - 10s 169us/step - loss: 0.0454 - acc: 0.9867 - val_loss: 0.0756 - val_acc: 0.9830\n",
            "Epoch 9/10\n",
            "60000/60000 [==============================] - 11s 180us/step - loss: 0.0424 - acc: 0.9875 - val_loss: 0.0786 - val_acc: 0.9819\n",
            "Epoch 10/10\n",
            "60000/60000 [==============================] - 10s 170us/step - loss: 0.0369 - acc: 0.9895 - val_loss: 0.0766 - val_acc: 0.9831\n"
          ],
          "name": "stdout"
        }
      ]
    },
    {
      "metadata": {
        "id": "rRQ_tugWnU4m",
        "colab_type": "code",
        "outputId": "69432a3f-2c18-4f1c-9d7b-4ca05080f87c",
        "colab": {
          "base_uri": "https://localhost:8080/",
          "height": 52
        }
      },
      "cell_type": "code",
      "source": [
        "print('Test loss:', score[0])\n",
        "print('Test accuracy:', score[1])"
      ],
      "execution_count": 0,
      "outputs": [
        {
          "output_type": "stream",
          "text": [
            "Test loss: 0.095001053121928\n",
            "Test accuracy: 0.9828\n"
          ],
          "name": "stdout"
        }
      ]
    },
    {
      "metadata": {
        "id": "GeCKYRmdnU4s",
        "colab_type": "code",
        "outputId": "cfe619fe-a882-46d6-db80-0fc22aad7d14",
        "colab": {
          "base_uri": "https://localhost:8080/",
          "height": 425
        }
      },
      "cell_type": "code",
      "source": [
        "image_index = 2000\n",
        "plt.gray()\n",
        "plt.matshow(x_train[image_index,:].reshape(28,28))\n",
        "plt.show()\n",
        "print(model.predict(x_train[image_index,:].reshape(1,784)))\n",
        "print(y_train[image_index])"
      ],
      "execution_count": 0,
      "outputs": [
        {
          "output_type": "display_data",
          "data": {
            "text/plain": [
              "<matplotlib.figure.Figure at 0x7f34124fe358>"
            ]
          },
          "metadata": {
            "tags": []
          }
        },
        {
          "output_type": "display_data",
          "data": {
            "image/png": "[encoded data removed]",
            "text/plain": [
              "<matplotlib.figure.Figure at 0x7f34124fe0b8>"
            ]
          },
          "metadata": {
            "tags": []
          }
        },
        {
          "output_type": "stream",
          "text": [
            "[[1.2846091e-10 3.5271627e-12 1.8550673e-09 2.9155723e-08 4.5990333e-08\n",
            "  9.9994838e-01 2.2889315e-05 1.2995045e-09 1.3027214e-08 2.8657496e-05]]\n",
            "[0. 0. 0. 0. 0. 1. 0. 0. 0. 0.]\n"
          ],
          "name": "stdout"
        }
      ]
    },
    {
      "metadata": {
        "id": "VOVbGA6UnU67",
        "colab_type": "code",
        "outputId": "4f9c784c-0ab6-42f1-cc33-0bbe7c37c205",
        "colab": {
          "base_uri": "https://localhost:8080/",
          "height": 193
        }
      },
      "cell_type": "code",
      "source": [
        "sklearn.metrics.confusion_matrix(y_test_,model.predict_classes(x_test))"
      ],
      "execution_count": 0,
      "outputs": [
        {
          "output_type": "execute_result",
          "data": {
            "text/plain": [
              "array([[ 968,    1,    0,    1,    1,    2,    1,    1,    2,    3],\n",
              "       [   0, 1126,    3,    0,    0,    1,    2,    0,    3,    0],\n",
              "       [   3,    3, 1004,    3,    9,    0,    1,    5,    4,    0],\n",
              "       [   0,    0,    6,  993,    0,    0,    0,    5,    2,    4],\n",
              "       [   0,    1,    0,    0,  968,    0,    4,    2,    1,    6],\n",
              "       [   2,    0,    0,   15,    1,  860,    5,    0,    7,    2],\n",
              "       [   5,    3,    1,    1,    5,    6,  933,    0,    4,    0],\n",
              "       [   1,    8,    7,    1,    0,    0,    0, 1001,    2,    8],\n",
              "       [   1,    1,    3,    7,    2,    6,    0,    7,  944,    3],\n",
              "       [   0,    7,    0,    5,    8,   10,    0,    5,    1,  973]])"
            ]
          },
          "metadata": {
            "tags": []
          },
          "execution_count": 11
        }
      ]
    },
    {
      "metadata": {
        "id": "tuMUpahLXJRV",
        "colab_type": "code",
        "outputId": "909e5c26-08a6-4236-a15c-5db1ac194f3f",
        "colab": {
          "base_uri": "https://localhost:8080/",
          "height": 365
        }
      },
      "cell_type": "code",
      "source": [
        "import numpy as np\n",
        "import matplotlib.pyplot as plt\n",
        "x = np.random.randint(3,5,20)\n",
        "y = np.random.randint(1,100,20)\n",
        "#plt.plot(x,y,'g.')"
      ],
      "execution_count": 0,
      "outputs": [
        {
          "output_type": "execute_result",
          "data": {
            "text/plain": [
              "[<matplotlib.lines.Line2D at 0x7f341245bba8>]"
            ]
          },
          "metadata": {
            "tags": []
          },
          "execution_count": 50
        },
        {
          "output_type": "display_data",
          "data": {
            "image/png": "[encoded data removed]",
            "text/plain": [
              "<matplotlib.figure.Figure at 0x7f341237a470>"
            ]
          },
          "metadata": {
            "tags": []
          }
        }
      ]
    }
  ]
}