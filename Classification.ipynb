{
  "nbformat": 4,
  "nbformat_minor": 0,
  "metadata": {
    "colab": {
      "name": "Classification.ipynb",
      "version": "0.3.2",
      "provenance": [],
      "include_colab_link": true
    },
    "kernelspec": {
      "display_name": "Python 3",
      "language": "python",
      "name": "python3"
    }
  },
  "cells": [
    {
      "cell_type": "markdown",
      "metadata": {
        "id": "view-in-github",
        "colab_type": "text"
      },
      "source": [
        "<a href=\"https://colab.research.google.com/github/cwy20030/Machine-Learning-Workshop/blob/master/Classification.ipynb\" target=\"_parent\"><img src=\"https://colab.research.google.com/assets/colab-badge.svg\" alt=\"Open In Colab\"/></a>"
      ]
    },
    {
      "metadata": {
        "id": "LayxXifIA-D_",
        "colab_type": "text"
      },
      "cell_type": "markdown",
      "source": [
        "***Digit Classification***\n",
        "\n",
        "*** goo.gl/GRvxDv***\n",
        "In this tutorial, we will learn how to do handwritten digits classification using scikit-learn. There are 10 classes and 1797 examples in total. Each example is an 8 * 8 image."
      ]
    },
    {
      "metadata": {
        "id": "ecahh3ygA-EB",
        "colab_type": "text"
      },
      "cell_type": "markdown",
      "source": [
        "First we will import all the relevant packages."
      ]
    },
    {
      "metadata": {
        "id": "Hu0WuVboA-ED",
        "colab_type": "code",
        "colab": {}
      },
      "cell_type": "code",
      "source": [
        "from sklearn.datasets import load_digits,load_iris\n",
        "from sklearn import linear_model\n",
        "from sklearn.metrics import accuracy_score\n",
        "from sklearn.neighbors import NearestNeighbors\n",
        "from sklearn.neighbors import KNeighborsClassifier\n",
        "from sklearn import tree\n",
        "import matplotlib.pyplot as plt"
      ],
      "execution_count": 0,
      "outputs": []
    },
    {
      "metadata": {
        "id": "EMqrR1dWA-EI",
        "colab_type": "text"
      },
      "cell_type": "markdown",
      "source": [
        "Next we will load the dataset."
      ]
    },
    {
      "metadata": {
        "id": "Dl-oGk_iA-EJ",
        "colab_type": "code",
        "colab": {}
      },
      "cell_type": "code",
      "source": [
        "digits = load_digits()"
      ],
      "execution_count": 0,
      "outputs": []
    },
    {
      "metadata": {
        "id": "_0J1QELHA-EL",
        "colab_type": "text"
      },
      "cell_type": "markdown",
      "source": [
        "Next we will split the dataset intro training and test data."
      ]
    },
    {
      "metadata": {
        "id": "f669DQwbA-EM",
        "colab_type": "code",
        "outputId": "8bbd7dc3-bf75-40d2-a9a6-bf88d1c74031",
        "colab": {
          "base_uri": "https://localhost:8080/",
          "height": 34
        }
      },
      "cell_type": "code",
      "source": [
        "#X=[[],[],[],[]] Nxd d =5, N = 100\n",
        "#Y = []\n",
        "X_train = digits.data[:150,:]\n",
        "Y_train = digits.target[:150]\n",
        "X_test = digits.data[100:,:]\n",
        "Y_test = digits.target[100:]\n",
        "print(Y_train.shape,X_train.shape)"
      ],
      "execution_count": 0,
      "outputs": [
        {
          "output_type": "stream",
          "text": [
            "(150,) (150, 64)\n"
          ],
          "name": "stdout"
        }
      ]
    },
    {
      "metadata": {
        "id": "U0LfnhHPA-EP",
        "colab_type": "text"
      },
      "cell_type": "markdown",
      "source": [
        "Next we will instantiate a classifier and fit the training data. In this example we will use logistic regression classifier."
      ]
    },
    {
      "metadata": {
        "id": "4oHBqQEvA-ER",
        "colab_type": "code",
        "outputId": "eb19cfa0-8b5e-4744-d0b1-4e53bc65092e",
        "colab": {
          "base_uri": "https://localhost:8080/",
          "height": 70
        }
      },
      "cell_type": "code",
      "source": [
        "#model = linear_model.LogisticRegression(C=1e5)\n",
        "model = KNeighborsClassifier(n_neighbors = 3)#NearestNeighbors(n_neighbors=1)\n",
        "#model = tree.DecisionTreeClassifier()\n",
        "model.fit(X_train,Y_train)"
      ],
      "execution_count": 0,
      "outputs": [
        {
          "output_type": "execute_result",
          "data": {
            "text/plain": [
              "KNeighborsClassifier(algorithm='auto', leaf_size=30, metric='minkowski',\n",
              "           metric_params=None, n_jobs=1, n_neighbors=3, p=2,\n",
              "           weights='uniform')"
            ]
          },
          "metadata": {
            "tags": []
          },
          "execution_count": 4
        }
      ]
    },
    {
      "metadata": {
        "id": "ASDq1D-2A-EW",
        "colab_type": "text"
      },
      "cell_type": "markdown",
      "source": [
        "Now we will randomly pick an image and visualize it. We will also check what the model predicts about the class of the image."
      ]
    },
    {
      "metadata": {
        "id": "tEz7a_rxA-EX",
        "colab_type": "code",
        "outputId": "b17bce36-7339-4a87-ec03-6273705e9327",
        "colab": {
          "base_uri": "https://localhost:8080/",
          "height": 443
        }
      },
      "cell_type": "code",
      "source": [
        "datapoint = 25\n",
        "plt.gray() \n",
        "plt.matshow(X_test[datapoint].reshape(8,8)) \n",
        "plt.show()\n",
        "#print(\"model's prediction: \",model.predict([X_train[datapoint,:]]))\n",
        "print(digits.images[datapoint].shape)\n",
        "print(\"Nearest Neighbor:\",model.kneighbors([X_test[datapoint,:]]))\n",
        "print(\"Model's prediction:\", model.predict([X_test[datapoint,:]]))\n",
        "print(Y_train[125],Y_train[59],Y_train[83])"
      ],
      "execution_count": 0,
      "outputs": [
        {
          "output_type": "display_data",
          "data": {
            "text/plain": [
              "<matplotlib.figure.Figure at 0x7f0b4ad9cb38>"
            ]
          },
          "metadata": {
            "tags": []
          }
        },
        {
          "output_type": "display_data",
          "data": {
            "image/png": "[encoded data removed]",
            "text/plain": [
              "<matplotlib.figure.Figure at 0x7f0b4ae3db00>"
            ]
          },
          "metadata": {
            "tags": []
          }
        },
        {
          "output_type": "stream",
          "text": [
            "(8, 8)\n",
            "Nearest Neighbor: (array([[ 0.        , 30.        , 30.82207001]]), array([[125,  59,  83]]))\n",
            "Model's prediction: [3]\n",
            "9 3 3\n"
          ],
          "name": "stdout"
        }
      ]
    },
    {
      "metadata": {
        "id": "VGK3Kjo9A-Eb",
        "colab_type": "text"
      },
      "cell_type": "markdown",
      "source": [
        "Now we will print the accuracy of the classifer in predicting the class of training examples and test examples."
      ]
    },
    {
      "metadata": {
        "id": "eBpn0vnsA-Ec",
        "colab_type": "code",
        "outputId": "c73cc156-9bf1-4de5-da6f-6aae9a17f188",
        "colab": {
          "base_uri": "https://localhost:8080/",
          "height": 52
        }
      },
      "cell_type": "code",
      "source": [
        "#Accuracy on training data\n",
        "Y_pred = model.predict(X_test)\n",
        "Y_pred_ = model.predict(X_train)\n",
        "print(\"training accuracy :\",accuracy_score(Y_train,Y_pred_))\n",
        "#Accuracy on Test data\n",
        "print(\"test accuracy :\",accuracy_score(Y_test,Y_pred))"
      ],
      "execution_count": 0,
      "outputs": [
        {
          "output_type": "stream",
          "text": [
            "training accuracy : 0.98\n",
            "test accuracy : 0.8444313494401886\n"
          ],
          "name": "stdout"
        }
      ]
    },
    {
      "metadata": {
        "id": "AvxRowh3A-Eg",
        "colab_type": "code",
        "colab": {}
      },
      "cell_type": "code",
      "source": [
        "#tree.export_graphviz(model,out_file='rules.out')"
      ],
      "execution_count": 0,
      "outputs": []
    },
    {
      "metadata": {
        "collapsed": true,
        "id": "HlYykSG7A-Ej",
        "colab_type": "text"
      },
      "cell_type": "markdown",
      "source": [
        "To Visualize the tree. Copy the contents of 'rules.out' and paste it in webgraphivz.com"
      ]
    },
    {
      "metadata": {
        "id": "w2AVGTKSA-Ej",
        "colab_type": "code",
        "colab": {}
      },
      "cell_type": "code",
      "source": [
        ""
      ],
      "execution_count": 0,
      "outputs": []
    }
  ]
}