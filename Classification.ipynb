{
  "nbformat": 4,
  "nbformat_minor": 0,
  "metadata": {
    "colab": {
      "name": "Classification.ipynb",
      "version": "0.3.2",
      "provenance": [],
      "include_colab_link": true
    },
    "kernelspec": {
      "display_name": "Python 3",
      "language": "python",
      "name": "python3"
    }
  },
  "cells": [
    {
      "cell_type": "markdown",
      "metadata": {
        "id": "view-in-github",
        "colab_type": "text"
      },
      "source": [
        "<a href=\"https://colab.research.google.com/github/cwy20030/Machine-Learning-Workshop/blob/master/Classification.ipynb\" target=\"_parent\"><img src=\"https://colab.research.google.com/assets/colab-badge.svg\" alt=\"Open In Colab\"/></a>"
      ]
    },
    {
      "metadata": {
        "id": "LayxXifIA-D_",
        "colab_type": "text"
      },
      "cell_type": "markdown",
      "source": [
        "***Digit Classification***\n",
        "\n",
        "*** goo.gl/GRvxDv***\n",
        "In this tutorial, we will learn how to do handwritten digits classification using scikit-learn. There are 10 classes and 1797 examples in total. Each example is an 8 * 8 image."
      ]
    },
    {
      "metadata": {
        "id": "ecahh3ygA-EB",
        "colab_type": "text"
      },
      "cell_type": "markdown",
      "source": [
        "First we will import all the relevant packages."
      ]
    },
    {
      "metadata": {
        "id": "Hu0WuVboA-ED",
        "colab_type": "code",
        "colab": {}
      },
      "cell_type": "code",
      "source": [
        "from sklearn.datasets import load_digits,load_iris\n",
        "from sklearn import linear_model\n",
        "from sklearn.metrics import accuracy_score\n",
        "from sklearn.neighbors import NearestNeighbors\n",
        "from sklearn.neighbors import KNeighborsClassifier\n",
        "from sklearn import tree\n",
        "import matplotlib.pyplot as plt"
      ],
      "execution_count": 0,
      "outputs": []
    },
    {
      "metadata": {
        "id": "EMqrR1dWA-EI",
        "colab_type": "text"
      },
      "cell_type": "markdown",
      "source": [
        "Next we will load the dataset."
      ]
    },
    {
      "metadata": {
        "id": "Dl-oGk_iA-EJ",
        "colab_type": "code",
        "colab": {}
      },
      "cell_type": "code",
      "source": [
        "digits = load_digits()\n",
        "\n"
      ],
      "execution_count": 0,
      "outputs": []
    },
    {
      "metadata": {
        "id": "_0J1QELHA-EL",
        "colab_type": "text"
      },
      "cell_type": "markdown",
      "source": [
        "Next we will split the dataset intro training and test data."
      ]
    },
    {
      "metadata": {
        "id": "f669DQwbA-EM",
        "colab_type": "code",
        "outputId": "80e858a5-ec03-4fb2-c4b6-466f7b67410f",
        "colab": {
          "base_uri": "https://localhost:8080/",
          "height": 34
        }
      },
      "cell_type": "code",
      "source": [
        "#X=[[],[],[],[]] Nxd d =5, N = 100\n",
        "#Y = []\n",
        "X_train = digits.data[:1000,:]\n",
        "Y_train = digits.target[:1000]\n",
        "X_Valid = digits.data[100:150,:]\n",
        "Y_Valid = digits.target[100:150]\n",
        "X_test = digits.data[1500:,:]\n",
        "Y_test = digits.target[10:]\n",
        "print(Y_train.shape,X_train.shape)"
      ],
      "execution_count": 0,
      "outputs": [
        {
          "output_type": "stream",
          "text": [
            "(100,) (100, 64)\n"
          ],
          "name": "stdout"
        }
      ]
    },
    {
      "metadata": {
        "id": "U0LfnhHPA-EP",
        "colab_type": "text"
      },
      "cell_type": "markdown",
      "source": [
        "Next we will instantiate a classifier and fit the training data. In this example we will use logistic regression classifier."
      ]
    },
    {
      "metadata": {
        "id": "4oHBqQEvA-ER",
        "colab_type": "code",
        "outputId": "7d76a193-db23-43a9-f04a-39ba738bb501",
        "colab": {
          "base_uri": "https://localhost:8080/",
          "height": 122
        }
      },
      "cell_type": "code",
      "source": [
        "#model = linear_model.LogisticRegression(C=1e5)\n",
        "#model = KNeighborsClassifier(n_neighbors = 3)#NearestNeighbors(n_neighbors=1)\n",
        "model = tree.DecisionTreeClassifier(max_depth = None) #depths: 3,4,5\n",
        "model.fit(X_train,Y_train)"
      ],
      "execution_count": 0,
      "outputs": [
        {
          "output_type": "execute_result",
          "data": {
            "text/plain": [
              "DecisionTreeClassifier(class_weight=None, criterion='gini', max_depth=None,\n",
              "            max_features=None, max_leaf_nodes=None,\n",
              "            min_impurity_decrease=0.0, min_impurity_split=None,\n",
              "            min_samples_leaf=1, min_samples_split=2,\n",
              "            min_weight_fraction_leaf=0.0, presort=False, random_state=None,\n",
              "            splitter='best')"
            ]
          },
          "metadata": {
            "tags": []
          },
          "execution_count": 22
        }
      ]
    },
    {
      "metadata": {
        "id": "ASDq1D-2A-EW",
        "colab_type": "text"
      },
      "cell_type": "markdown",
      "source": [
        "Now we will randomly pick an image and visualize it. We will also check what the model predicts about the class of the image."
      ]
    },
    {
      "metadata": {
        "id": "tEz7a_rxA-EX",
        "colab_type": "code",
        "outputId": "3109f511-86e1-4bfd-cff0-92b85e119b1b",
        "colab": {
          "base_uri": "https://localhost:8080/",
          "height": 407
        }
      },
      "cell_type": "code",
      "source": [
        "datapoint = 25\n",
        "plt.gray() \n",
        "plt.matshow(X_test[datapoint].reshape(8,8)) \n",
        "plt.show()\n",
        "#print(\"model's prediction: \",model.predict([X_train[datapoint,:]]))\n",
        "print(digits.images[datapoint].shape)\n",
        "#print(\"Nearest Neighbor:\",model.kneighbors([X_test[datapoint,:]]))\n",
        "print(\"Model's prediction:\", model.predict([X_test[datapoint,:]]))\n",
        "#print(Y_train[125],Y_train[59],Y_train[83])"
      ],
      "execution_count": 0,
      "outputs": [
        {
          "output_type": "display_data",
          "data": {
            "text/plain": [
              "<matplotlib.figure.Figure at 0x7f18c0dcc438>"
            ]
          },
          "metadata": {
            "tags": []
          }
        },
        {
          "output_type": "display_data",
          "data": {
            "image/png": "[encoded data removed]",
            "text/plain": [
              "<matplotlib.figure.Figure at 0x7f18e0405ef0>"
            ]
          },
          "metadata": {
            "tags": []
          }
        },
        {
          "output_type": "stream",
          "text": [
            "(8, 8)\n",
            "Model's prediction: [9]\n"
          ],
          "name": "stdout"
        }
      ]
    },
    {
      "metadata": {
        "id": "VGK3Kjo9A-Eb",
        "colab_type": "text"
      },
      "cell_type": "markdown",
      "source": [
        "Now we will print the accuracy of the classifer in predicting the class of training examples and test examples."
      ]
    },
    {
      "metadata": {
        "id": "eBpn0vnsA-Ec",
        "colab_type": "code",
        "outputId": "af3dc12d-1cb0-4457-c8f1-3a6b317c053e",
        "colab": {
          "base_uri": "https://localhost:8080/",
          "height": 52
        }
      },
      "cell_type": "code",
      "source": [
        "#Accuracy on training data\n",
        "Y_pred = model.predict(X_test)\n",
        "Y_pred_ = model.predict(X_train)\n",
        "print(\"training accuracy :\",accuracy_score(Y_train,Y_pred_))\n",
        "#Accuracy on Test data\n",
        "print(\"test accuracy :\",accuracy_score(Y_test,Y_pred))\n",
        "# 2: 30%\n",
        "# 3: 36%\n",
        "# 4: 41%\n",
        "# 5: 50%\n",
        "# None: 52%"
      ],
      "execution_count": 0,
      "outputs": [
        {
          "output_type": "stream",
          "text": [
            "training accuracy : 1.0\n",
            "test accuracy : 0.5215543412264724\n"
          ],
          "name": "stdout"
        }
      ]
    },
    {
      "metadata": {
        "id": "AvxRowh3A-Eg",
        "colab_type": "code",
        "colab": {}
      },
      "cell_type": "code",
      "source": [
        "tree.export_graphviz(model,out_file='rules.out')"
      ],
      "execution_count": 0,
      "outputs": []
    },
    {
      "metadata": {
        "collapsed": true,
        "id": "HlYykSG7A-Ej",
        "colab_type": "text"
      },
      "cell_type": "markdown",
      "source": [
        "To Visualize the tree. Copy the contents of 'rules.out' and paste it in webgraphivz.com"
      ]
    },
    {
      "metadata": {
        "id": "w2AVGTKSA-Ej",
        "colab_type": "code",
        "outputId": "70e82bc0-64dc-4a7c-f99f-d743a9229af7",
        "colab": {
          "base_uri": "https://localhost:8080/",
          "height": 2417
        }
      },
      "cell_type": "code",
      "source": [
        "f = open('rules.out')\n",
        "fp = f.readlines()\n",
        "print(fp)\n",
        "for line in fp:\n",
        "  print(line)"
      ],
      "execution_count": 0,
      "outputs": [
        {
          "output_type": "stream",
          "text": [
            "['digraph Tree {\\n', 'node [shape=box] ;\\n', '0 [label=\"X[13] <= 2.5\\\\ngini = 0.9\\\\nsamples = 150\\\\nvalue = [15, 15, 15, 15, 15, 15, 15, 15, 15, 15]\"] ;\\n', '1 [label=\"X[50] <= 0.5\\\\ngini = 0.656\\\\nsamples = 36\\\\nvalue = [0, 0, 4, 0, 15, 0, 14, 0, 0, 3]\"] ;\\n', '0 -> 1 [labeldistance=2.5, labelangle=45, headlabel=\"True\"] ;\\n', '2 [label=\"gini = 0.0\\\\nsamples = 15\\\\nvalue = [0, 0, 0, 0, 15, 0, 0, 0, 0, 0]\"] ;\\n', '1 -> 2 ;\\n', '3 [label=\"X[20] <= 9.5\\\\ngini = 0.499\\\\nsamples = 21\\\\nvalue = [0, 0, 4, 0, 0, 0, 14, 0, 0, 3]\"] ;\\n', '1 -> 3 ;\\n', '4 [label=\"gini = 0.0\\\\nsamples = 14\\\\nvalue = [0, 0, 0, 0, 0, 0, 14, 0, 0, 0]\"] ;\\n', '3 -> 4 ;\\n', '5 [label=\"X[38] <= 0.5\\\\ngini = 0.49\\\\nsamples = 7\\\\nvalue = [0, 0, 4, 0, 0, 0, 0, 0, 0, 3]\"] ;\\n', '3 -> 5 ;\\n', '6 [label=\"gini = 0.0\\\\nsamples = 4\\\\nvalue = [0, 0, 4, 0, 0, 0, 0, 0, 0, 0]\"] ;\\n', '5 -> 6 ;\\n', '7 [label=\"gini = 0.0\\\\nsamples = 3\\\\nvalue = [0, 0, 0, 0, 0, 0, 0, 0, 0, 3]\"] ;\\n', '5 -> 7 ;\\n', '8 [label=\"X[42] <= 3.5\\\\ngini = 0.876\\\\nsamples = 114\\\\nvalue = [15, 15, 11, 15, 0, 15, 1, 15, 15, 12]\"] ;\\n', '0 -> 8 [labeldistance=2.5, labelangle=-45, headlabel=\"False\"] ;\\n', '9 [label=\"X[10] <= 2.0\\\\ngini = 0.776\\\\nsamples = 60\\\\nvalue = [0, 14, 0, 15, 0, 15, 0, 4, 0, 12]\"] ;\\n', '8 -> 9 ;\\n', '10 [label=\"X[12] <= 12.0\\\\ngini = 0.124\\\\nsamples = 15\\\\nvalue = [0, 14, 0, 0, 0, 0, 0, 1, 0, 0]\"] ;\\n', '9 -> 10 ;\\n', '11 [label=\"gini = 0.0\\\\nsamples = 1\\\\nvalue = [0, 0, 0, 0, 0, 0, 0, 1, 0, 0]\"] ;\\n', '10 -> 11 ;\\n', '12 [label=\"gini = 0.0\\\\nsamples = 14\\\\nvalue = [0, 14, 0, 0, 0, 0, 0, 0, 0, 0]\"] ;\\n', '10 -> 12 ;\\n', '13 [label=\"X[18] <= 3.0\\\\ngini = 0.702\\\\nsamples = 45\\\\nvalue = [0, 0, 0, 15, 0, 15, 0, 3, 0, 12]\"] ;\\n', '9 -> 13 ;\\n', '14 [label=\"X[34] <= 5.5\\\\ngini = 0.278\\\\nsamples = 18\\\\nvalue = [0, 0, 0, 15, 0, 0, 0, 3, 0, 0]\"] ;\\n', '13 -> 14 ;\\n', '15 [label=\"gini = 0.0\\\\nsamples = 15\\\\nvalue = [0, 0, 0, 15, 0, 0, 0, 0, 0, 0]\"] ;\\n', '14 -> 15 ;\\n', '16 [label=\"gini = 0.0\\\\nsamples = 3\\\\nvalue = [0, 0, 0, 0, 0, 0, 0, 3, 0, 0]\"] ;\\n', '14 -> 16 ;\\n', '17 [label=\"X[21] <= 9.0\\\\ngini = 0.494\\\\nsamples = 27\\\\nvalue = [0, 0, 0, 0, 0, 15, 0, 0, 0, 12]\"] ;\\n', '13 -> 17 ;\\n', '18 [label=\"gini = 0.0\\\\nsamples = 14\\\\nvalue = [0, 0, 0, 0, 0, 14, 0, 0, 0, 0]\"] ;\\n', '17 -> 18 ;\\n', '19 [label=\"X[3] <= 10.5\\\\ngini = 0.142\\\\nsamples = 13\\\\nvalue = [0, 0, 0, 0, 0, 1, 0, 0, 0, 12]\"] ;\\n', '17 -> 19 ;\\n', '20 [label=\"gini = 0.0\\\\nsamples = 1\\\\nvalue = [0, 0, 0, 0, 0, 1, 0, 0, 0, 0]\"] ;\\n', '19 -> 20 ;\\n', '21 [label=\"gini = 0.0\\\\nsamples = 12\\\\nvalue = [0, 0, 0, 0, 0, 0, 0, 0, 0, 12]\"] ;\\n', '19 -> 21 ;\\n', '22 [label=\"X[38] <= 1.5\\\\ngini = 0.762\\\\nsamples = 54\\\\nvalue = [15, 1, 11, 0, 0, 0, 1, 11, 15, 0]\"] ;\\n', '8 -> 22 ;\\n', '23 [label=\"X[27] <= 9.5\\\\ngini = 0.556\\\\nsamples = 28\\\\nvalue = [0, 1, 11, 0, 0, 0, 1, 0, 15, 0]\"] ;\\n', '22 -> 23 ;\\n', '24 [label=\"gini = 0.0\\\\nsamples = 11\\\\nvalue = [0, 0, 11, 0, 0, 0, 0, 0, 0, 0]\"] ;\\n', '23 -> 24 ;\\n', '25 [label=\"X[10] <= 6.5\\\\ngini = 0.215\\\\nsamples = 17\\\\nvalue = [0, 1, 0, 0, 0, 0, 1, 0, 15, 0]\"] ;\\n', '23 -> 25 ;\\n', '26 [label=\"X[34] <= 15.5\\\\ngini = 0.5\\\\nsamples = 2\\\\nvalue = [0, 1, 0, 0, 0, 0, 1, 0, 0, 0]\"] ;\\n', '25 -> 26 ;\\n', '27 [label=\"gini = 0.0\\\\nsamples = 1\\\\nvalue = [0, 0, 0, 0, 0, 0, 1, 0, 0, 0]\"] ;\\n', '26 -> 27 ;\\n', '28 [label=\"gini = 0.0\\\\nsamples = 1\\\\nvalue = [0, 1, 0, 0, 0, 0, 0, 0, 0, 0]\"] ;\\n', '26 -> 28 ;\\n', '29 [label=\"gini = 0.0\\\\nsamples = 15\\\\nvalue = [0, 0, 0, 0, 0, 0, 0, 0, 15, 0]\"] ;\\n', '25 -> 29 ;\\n', '30 [label=\"X[44] <= 8.0\\\\ngini = 0.488\\\\nsamples = 26\\\\nvalue = [15, 0, 0, 0, 0, 0, 0, 11, 0, 0]\"] ;\\n', '22 -> 30 ;\\n', '31 [label=\"gini = 0.0\\\\nsamples = 15\\\\nvalue = [15, 0, 0, 0, 0, 0, 0, 0, 0, 0]\"] ;\\n', '30 -> 31 ;\\n', '32 [label=\"gini = 0.0\\\\nsamples = 11\\\\nvalue = [0, 0, 0, 0, 0, 0, 0, 11, 0, 0]\"] ;\\n', '30 -> 32 ;\\n', '}']\n",
            "digraph Tree {\n",
            "\n",
            "node [shape=box] ;\n",
            "\n",
            "0 [label=\"X[13] <= 2.5\\ngini = 0.9\\nsamples = 150\\nvalue = [15, 15, 15, 15, 15, 15, 15, 15, 15, 15]\"] ;\n",
            "\n",
            "1 [label=\"X[50] <= 0.5\\ngini = 0.656\\nsamples = 36\\nvalue = [0, 0, 4, 0, 15, 0, 14, 0, 0, 3]\"] ;\n",
            "\n",
            "0 -> 1 [labeldistance=2.5, labelangle=45, headlabel=\"True\"] ;\n",
            "\n",
            "2 [label=\"gini = 0.0\\nsamples = 15\\nvalue = [0, 0, 0, 0, 15, 0, 0, 0, 0, 0]\"] ;\n",
            "\n",
            "1 -> 2 ;\n",
            "\n",
            "3 [label=\"X[20] <= 9.5\\ngini = 0.499\\nsamples = 21\\nvalue = [0, 0, 4, 0, 0, 0, 14, 0, 0, 3]\"] ;\n",
            "\n",
            "1 -> 3 ;\n",
            "\n",
            "4 [label=\"gini = 0.0\\nsamples = 14\\nvalue = [0, 0, 0, 0, 0, 0, 14, 0, 0, 0]\"] ;\n",
            "\n",
            "3 -> 4 ;\n",
            "\n",
            "5 [label=\"X[38] <= 0.5\\ngini = 0.49\\nsamples = 7\\nvalue = [0, 0, 4, 0, 0, 0, 0, 0, 0, 3]\"] ;\n",
            "\n",
            "3 -> 5 ;\n",
            "\n",
            "6 [label=\"gini = 0.0\\nsamples = 4\\nvalue = [0, 0, 4, 0, 0, 0, 0, 0, 0, 0]\"] ;\n",
            "\n",
            "5 -> 6 ;\n",
            "\n",
            "7 [label=\"gini = 0.0\\nsamples = 3\\nvalue = [0, 0, 0, 0, 0, 0, 0, 0, 0, 3]\"] ;\n",
            "\n",
            "5 -> 7 ;\n",
            "\n",
            "8 [label=\"X[42] <= 3.5\\ngini = 0.876\\nsamples = 114\\nvalue = [15, 15, 11, 15, 0, 15, 1, 15, 15, 12]\"] ;\n",
            "\n",
            "0 -> 8 [labeldistance=2.5, labelangle=-45, headlabel=\"False\"] ;\n",
            "\n",
            "9 [label=\"X[10] <= 2.0\\ngini = 0.776\\nsamples = 60\\nvalue = [0, 14, 0, 15, 0, 15, 0, 4, 0, 12]\"] ;\n",
            "\n",
            "8 -> 9 ;\n",
            "\n",
            "10 [label=\"X[12] <= 12.0\\ngini = 0.124\\nsamples = 15\\nvalue = [0, 14, 0, 0, 0, 0, 0, 1, 0, 0]\"] ;\n",
            "\n",
            "9 -> 10 ;\n",
            "\n",
            "11 [label=\"gini = 0.0\\nsamples = 1\\nvalue = [0, 0, 0, 0, 0, 0, 0, 1, 0, 0]\"] ;\n",
            "\n",
            "10 -> 11 ;\n",
            "\n",
            "12 [label=\"gini = 0.0\\nsamples = 14\\nvalue = [0, 14, 0, 0, 0, 0, 0, 0, 0, 0]\"] ;\n",
            "\n",
            "10 -> 12 ;\n",
            "\n",
            "13 [label=\"X[18] <= 3.0\\ngini = 0.702\\nsamples = 45\\nvalue = [0, 0, 0, 15, 0, 15, 0, 3, 0, 12]\"] ;\n",
            "\n",
            "9 -> 13 ;\n",
            "\n",
            "14 [label=\"X[34] <= 5.5\\ngini = 0.278\\nsamples = 18\\nvalue = [0, 0, 0, 15, 0, 0, 0, 3, 0, 0]\"] ;\n",
            "\n",
            "13 -> 14 ;\n",
            "\n",
            "15 [label=\"gini = 0.0\\nsamples = 15\\nvalue = [0, 0, 0, 15, 0, 0, 0, 0, 0, 0]\"] ;\n",
            "\n",
            "14 -> 15 ;\n",
            "\n",
            "16 [label=\"gini = 0.0\\nsamples = 3\\nvalue = [0, 0, 0, 0, 0, 0, 0, 3, 0, 0]\"] ;\n",
            "\n",
            "14 -> 16 ;\n",
            "\n",
            "17 [label=\"X[21] <= 9.0\\ngini = 0.494\\nsamples = 27\\nvalue = [0, 0, 0, 0, 0, 15, 0, 0, 0, 12]\"] ;\n",
            "\n",
            "13 -> 17 ;\n",
            "\n",
            "18 [label=\"gini = 0.0\\nsamples = 14\\nvalue = [0, 0, 0, 0, 0, 14, 0, 0, 0, 0]\"] ;\n",
            "\n",
            "17 -> 18 ;\n",
            "\n",
            "19 [label=\"X[3] <= 10.5\\ngini = 0.142\\nsamples = 13\\nvalue = [0, 0, 0, 0, 0, 1, 0, 0, 0, 12]\"] ;\n",
            "\n",
            "17 -> 19 ;\n",
            "\n",
            "20 [label=\"gini = 0.0\\nsamples = 1\\nvalue = [0, 0, 0, 0, 0, 1, 0, 0, 0, 0]\"] ;\n",
            "\n",
            "19 -> 20 ;\n",
            "\n",
            "21 [label=\"gini = 0.0\\nsamples = 12\\nvalue = [0, 0, 0, 0, 0, 0, 0, 0, 0, 12]\"] ;\n",
            "\n",
            "19 -> 21 ;\n",
            "\n",
            "22 [label=\"X[38] <= 1.5\\ngini = 0.762\\nsamples = 54\\nvalue = [15, 1, 11, 0, 0, 0, 1, 11, 15, 0]\"] ;\n",
            "\n",
            "8 -> 22 ;\n",
            "\n",
            "23 [label=\"X[27] <= 9.5\\ngini = 0.556\\nsamples = 28\\nvalue = [0, 1, 11, 0, 0, 0, 1, 0, 15, 0]\"] ;\n",
            "\n",
            "22 -> 23 ;\n",
            "\n",
            "24 [label=\"gini = 0.0\\nsamples = 11\\nvalue = [0, 0, 11, 0, 0, 0, 0, 0, 0, 0]\"] ;\n",
            "\n",
            "23 -> 24 ;\n",
            "\n",
            "25 [label=\"X[10] <= 6.5\\ngini = 0.215\\nsamples = 17\\nvalue = [0, 1, 0, 0, 0, 0, 1, 0, 15, 0]\"] ;\n",
            "\n",
            "23 -> 25 ;\n",
            "\n",
            "26 [label=\"X[34] <= 15.5\\ngini = 0.5\\nsamples = 2\\nvalue = [0, 1, 0, 0, 0, 0, 1, 0, 0, 0]\"] ;\n",
            "\n",
            "25 -> 26 ;\n",
            "\n",
            "27 [label=\"gini = 0.0\\nsamples = 1\\nvalue = [0, 0, 0, 0, 0, 0, 1, 0, 0, 0]\"] ;\n",
            "\n",
            "26 -> 27 ;\n",
            "\n",
            "28 [label=\"gini = 0.0\\nsamples = 1\\nvalue = [0, 1, 0, 0, 0, 0, 0, 0, 0, 0]\"] ;\n",
            "\n",
            "26 -> 28 ;\n",
            "\n",
            "29 [label=\"gini = 0.0\\nsamples = 15\\nvalue = [0, 0, 0, 0, 0, 0, 0, 0, 15, 0]\"] ;\n",
            "\n",
            "25 -> 29 ;\n",
            "\n",
            "30 [label=\"X[44] <= 8.0\\ngini = 0.488\\nsamples = 26\\nvalue = [15, 0, 0, 0, 0, 0, 0, 11, 0, 0]\"] ;\n",
            "\n",
            "22 -> 30 ;\n",
            "\n",
            "31 [label=\"gini = 0.0\\nsamples = 15\\nvalue = [15, 0, 0, 0, 0, 0, 0, 0, 0, 0]\"] ;\n",
            "\n",
            "30 -> 31 ;\n",
            "\n",
            "32 [label=\"gini = 0.0\\nsamples = 11\\nvalue = [0, 0, 0, 0, 0, 0, 0, 11, 0, 0]\"] ;\n",
            "\n",
            "30 -> 32 ;\n",
            "\n",
            "}\n"
          ],
          "name": "stdout"
        }
      ]
    },
    {
      "metadata": {
        "id": "EnfgU9i8S6um",
        "colab_type": "code",
        "colab": {}
      },
      "cell_type": "code",
      "source": [
        ""
      ],
      "execution_count": 0,
      "outputs": []
    }
  ]
}