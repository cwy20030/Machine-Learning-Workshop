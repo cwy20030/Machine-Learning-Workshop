{
  "nbformat": 4,
  "nbformat_minor": 0,
  "metadata": {
    "colab": {
      "name": "Copy of Classification.ipynb",
      "version": "0.3.2",
      "provenance": [],
      "include_colab_link": true
    },
    "kernelspec": {
      "display_name": "Python 3",
      "language": "python",
      "name": "python3"
    }
  },
  "cells": [
    {
      "cell_type": "markdown",
      "metadata": {
        "id": "view-in-github",
        "colab_type": "text"
      },
      "source": [
        "<a href=\"https://colab.research.google.com/github/cwy20030/Machine-Learning-Workshop/blob/master/Copy_of_Classification.ipynb\" target=\"_parent\"><img src=\"https://colab.research.google.com/assets/colab-badge.svg\" alt=\"Open In Colab\"/></a>"
      ]
    },
    {
      "metadata": {
        "id": "LayxXifIA-D_",
        "colab_type": "text"
      },
      "cell_type": "markdown",
      "source": [
        "***Digit Classification***\n",
        "\n",
        "*** goo.gl/GRvxDv***\n",
        "In this tutorial, we will learn how to do handwritten digits classification using scikit-learn. There are 10 classes and 1797 examples in total. Each example is an 8 * 8 image."
      ]
    },
    {
      "metadata": {
        "id": "ecahh3ygA-EB",
        "colab_type": "text"
      },
      "cell_type": "markdown",
      "source": [
        "First we will import all the relevant packages."
      ]
    },
    {
      "metadata": {
        "id": "Hu0WuVboA-ED",
        "colab_type": "code",
        "colab": {}
      },
      "cell_type": "code",
      "source": [
        "from sklearn.datasets import load_digits,load_iris\n",
        "from sklearn import linear_model\n",
        "from sklearn.metrics import accuracy_score\n",
        "from sklearn.neighbors import NearestNeighbors\n",
        "from sklearn.neighbors import KNeighborsClassifier\n",
        "from sklearn import tree\n",
        "import matplotlib.pyplot as plt"
      ],
      "execution_count": 0,
      "outputs": []
    },
    {
      "metadata": {
        "id": "EMqrR1dWA-EI",
        "colab_type": "text"
      },
      "cell_type": "markdown",
      "source": [
        "Next we will load the dataset."
      ]
    },
    {
      "metadata": {
        "id": "Dl-oGk_iA-EJ",
        "colab_type": "code",
        "colab": {}
      },
      "cell_type": "code",
      "source": [
        "digits = load_digits()"
      ],
      "execution_count": 0,
      "outputs": []
    },
    {
      "metadata": {
        "id": "_0J1QELHA-EL",
        "colab_type": "text"
      },
      "cell_type": "markdown",
      "source": [
        "Next we will split the dataset intro training and test data."
      ]
    },
    {
      "metadata": {
        "id": "f669DQwbA-EM",
        "colab_type": "code",
        "colab": {}
      },
      "cell_type": "code",
      "source": [
        "X_train = digits.data[:150,:]\n",
        "Y_train = digits.target[:150]\n",
        "X_test = digits.data[100:,:]\n",
        "Y_test = digits.target[100:]"
      ],
      "execution_count": 0,
      "outputs": []
    },
    {
      "metadata": {
        "id": "U0LfnhHPA-EP",
        "colab_type": "text"
      },
      "cell_type": "markdown",
      "source": [
        "Next we will instantiate a classifier and fit the training data. In this example we will use logistic regression classifier."
      ]
    },
    {
      "metadata": {
        "id": "4oHBqQEvA-ER",
        "colab_type": "code",
        "colab": {}
      },
      "cell_type": "code",
      "source": [
        "#model = linear_model.LogisticRegression(C=1e5)\n",
        "model = KNeighborsClassifier(n_neighbors = 3)#NearestNeighbors(n_neighbors=1)\n",
        "#model = tree.DecisionTreeClassifier()\n",
        "model.fit(X_train,Y_train)"
      ],
      "execution_count": 0,
      "outputs": []
    },
    {
      "metadata": {
        "id": "ASDq1D-2A-EW",
        "colab_type": "text"
      },
      "cell_type": "markdown",
      "source": [
        "Now we will randomly pick an image and visualize it. We will also check what the model predicts about the class of the image."
      ]
    },
    {
      "metadata": {
        "id": "tEz7a_rxA-EX",
        "colab_type": "code",
        "colab": {}
      },
      "cell_type": "code",
      "source": [
        "datapoint = 12\n",
        "plt.gray() \n",
        "plt.matshow(X_test[datapoint].reshape(8,8)) \n",
        "plt.show()\n",
        "#print(\"model's prediction: \",model.predict([X_train[datapoint,:]]))\n",
        "print(digits.images[datapoint].shape)\n",
        "print(\"Nearest Neighbor:\",model.kneighbors([X_test[datapoint,:]]))\n",
        "print(\"Model's prediction:\", model.predict([X_test[datapoint,:]]))\n",
        "print(Y_train[105],Y_train[119],Y_train[139])"
      ],
      "execution_count": 0,
      "outputs": []
    },
    {
      "metadata": {
        "id": "VGK3Kjo9A-Eb",
        "colab_type": "text"
      },
      "cell_type": "markdown",
      "source": [
        "Now we will print the accuracy of the classifer in predicting the class of training examples and test examples."
      ]
    },
    {
      "metadata": {
        "id": "eBpn0vnsA-Ec",
        "colab_type": "code",
        "colab": {}
      },
      "cell_type": "code",
      "source": [
        "#Accuracy on training data\n",
        "Y_pred = model.predict(X_test)\n",
        "print(\"training accuracy :\",accuracy_score(Y_train,Y_pred_))\n",
        "#Accuracy on Test data\n",
        "Y_pred_ = model.predict(X_train)\n",
        "print(\"test accuracy :\",accuracy_score(Y_test,Y_pred))"
      ],
      "execution_count": 0,
      "outputs": []
    },
    {
      "metadata": {
        "id": "AvxRowh3A-Eg",
        "colab_type": "code",
        "colab": {}
      },
      "cell_type": "code",
      "source": [
        "#tree.export_graphviz(model,out_file='rules.out')"
      ],
      "execution_count": 0,
      "outputs": []
    },
    {
      "metadata": {
        "collapsed": true,
        "id": "HlYykSG7A-Ej",
        "colab_type": "text"
      },
      "cell_type": "markdown",
      "source": [
        "To Visualize the tree. Copy the contents of 'rules.out' and paste it in webgraphivz.com"
      ]
    },
    {
      "metadata": {
        "id": "w2AVGTKSA-Ej",
        "colab_type": "code",
        "colab": {}
      },
      "cell_type": "code",
      "source": [
        ""
      ],
      "execution_count": 0,
      "outputs": []
    }
  ]
}