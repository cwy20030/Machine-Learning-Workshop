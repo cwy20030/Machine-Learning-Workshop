{
  "nbformat": 4,
  "nbformat_minor": 0,
  "metadata": {
    "colab": {
      "name": "Introduction To Python.ipynb",
      "version": "0.3.2",
      "provenance": [],
      "collapsed_sections": [
        "D1NensvkC5VT",
        "6Xk9521DC5XX",
        "uZDYOYm1C5YY"
      ],
      "include_colab_link": true
    },
    "kernelspec": {
      "name": "python3",
      "display_name": "Python 3"
    }
  },
  "cells": [
    {
      "cell_type": "markdown",
      "metadata": {
        "id": "view-in-github",
        "colab_type": "text"
      },
      "source": [
        "<a href=\"https://colab.research.google.com/github/cwy20030/Machine-Learning-Workshop/blob/master/Introduction_To_Python.ipynb\" target=\"_parent\"><img src=\"https://colab.research.google.com/assets/colab-badge.svg\" alt=\"Open In Colab\"/></a>"
      ]
    },
    {
      "metadata": {
        "id": "Dxh_j2XBC5VO",
        "colab_type": "text"
      },
      "cell_type": "markdown",
      "source": [
        "<h1 align=center>An Intro to Python for Applied Machine Learning</a></h1>\n",
        "<h2 align=center>Prasanna Parthasarathi</h2>\n",
        "<h2 align=center>goo.gl/DDoajh</h2>\n",
        "(credits: Nadeem and Xin Tong)"
      ]
    },
    {
      "metadata": {
        "id": "w57U-EMdC5VP",
        "colab_type": "text"
      },
      "cell_type": "markdown",
      "source": [
        "## Outline for Today\n",
        "\n",
        "- <font color='blue'>Basic Python</font>:<br>\n",
        "\n",
        "    - <font color='green'>Basic Data Types</font> <br>\n",
        "    - <font color='green'>Data Structures (Lists, Dicts, Tuples)</font><br>\n",
        "    - <font color='green'>Control Flow</font><br>\n",
        "    - <font color='green'>All Things Functional</font><br>\n",
        "    - <font color='green'>Saving/Loading Things</font><br>\n",
        "    - <font color='green'>Classes in Python</font><br>\n",
        "    \n",
        "- <font color='blue'>Numpy Intro</font>:\n",
        "    - <font color='green'>Numpy arrays</font><br>\n",
        "    - <font color='green'>Array math</font><br><br>\n",
        "   \n",
        "- <font color='blue'>Matplotlib intro</font><br>\n",
        "    "
      ]
    },
    {
      "metadata": {
        "id": "AwU_igFrEn0o",
        "colab_type": "text"
      },
      "cell_type": "markdown",
      "source": [
        "## To create a new notebook:\n",
        " - Click File\n",
        " - Click New Python 3 Notebook"
      ]
    },
    {
      "metadata": {
        "id": "zZFX_lB-C5VP",
        "colab_type": "text"
      },
      "cell_type": "markdown",
      "source": [
        "## Python Versions, Packages, and Notebooks\n",
        "\n",
        "There are two major versions of python, Python2 and Python3. Here we will use **Python 3**.\n",
        "\n",
        "You can check your Python version at the command line by running ```python --version.```\n",
        "\n",
        "For scientific computing, we recommend using the [Anaconda](https://docs.continuum.io/anaconda/) distribution. It comes with most of the basic tools you need (numpy, scipy, matplotlib), and even some ML libraries (tensorflow, theano, scikit-learn). You can download Anaconda distribution [here](https://www.continuum.io/downloads)\n",
        "\n",
        "Anaconda also comes with the Jupyter notebook (used here). You can start a notebook from the command line using ```jupyter notebook```"
      ]
    },
    {
      "metadata": {
        "id": "-CjjG4nhbt0A",
        "colab_type": "text"
      },
      "cell_type": "markdown",
      "source": [
        "## If you're already familiar with Python 2\n",
        "Here are some important differences between Python 2 and Python 3 that apply to this tutorial. \n",
        "<br><br>\n",
        "Python 3:\n",
        "- Requires parentheses after print statement\n",
        "- range returns a range instead of a list\n",
        "- reduce function is removed\n",
        "- map, filter return map/filter object, not a list\n",
        "\n",
        "---\n",
        "\n",
        "\n",
        "<br>\n",
        "For the full list of differences, please refer to :\n",
        "https://sebastianraschka.com/Articles/2014_python_2_3_key_diff.html\n",
        "\n",
        "\n",
        "\n",
        "\n"
      ]
    },
    {
      "metadata": {
        "id": "mfRO9klwC5VQ",
        "colab_type": "text"
      },
      "cell_type": "markdown",
      "source": [
        "# Basic Python"
      ]
    },
    {
      "metadata": {
        "id": "cBqAww9NC5VR",
        "colab_type": "text"
      },
      "cell_type": "markdown",
      "source": [
        "For a more in-depth refresher on Python, consult [The Python Tutorial](https://docs.python.org/2/tutorial/index.html)"
      ]
    },
    {
      "metadata": {
        "id": "D1NensvkC5VT",
        "colab_type": "text"
      },
      "cell_type": "markdown",
      "source": [
        "## Data Types"
      ]
    },
    {
      "metadata": {
        "id": "yE9Wu0KOC5VU",
        "colab_type": "text"
      },
      "cell_type": "markdown",
      "source": [
        "### Numbers"
      ]
    },
    {
      "metadata": {
        "id": "FAtTLk5NC5VU",
        "colab_type": "code",
        "outputId": "f74119d7-6c10-4979-b3b5-432701f947e9",
        "colab": {
          "base_uri": "https://localhost:8080/",
          "height": 52
        }
      },
      "cell_type": "code",
      "source": [
        "# This is a comment\n",
        "100+20\n",
        "a = 10\n",
        "b = 20\n",
        "c = a*b\n",
        "\n",
        "str1 = \"test\"\n",
        "str2 = \"exam\"\n",
        "str3 = \"test\"\n",
        "\n",
        "\n",
        "print(\"a*b = \"+str(c))\n",
        "print(str1,str2,str3)"
      ],
      "execution_count": 0,
      "outputs": [
        {
          "output_type": "stream",
          "text": [
            "a*b = 200\n",
            "test exam test\n"
          ],
          "name": "stdout"
        }
      ]
    },
    {
      "metadata": {
        "id": "UZpMt9zjC5VZ",
        "colab_type": "code",
        "outputId": "624e93ce-3777-4e3d-d52a-58923cb9ea77",
        "colab": {
          "base_uri": "https://localhost:8080/",
          "height": 69
        }
      },
      "cell_type": "code",
      "source": [
        "x = 6//3       # Type does not need to be declared, Python infers it for you\n",
        "print (\"x, type(x): \", x,\",\", type(x) ) # This will give an int\n",
        "\n",
        "x = 17 / 3.0\n",
        "y = 17//3\n",
        "print (\"x, type(x): \", x,\",\", type(x)) # This will give a float\n",
        "print(y)"
      ],
      "execution_count": 0,
      "outputs": [
        {
          "output_type": "stream",
          "text": [
            "x, type(x):  2 , <class 'int'>\n",
            "x, type(x):  5.666666666666667 , <class 'float'>\n",
            "5\n"
          ],
          "name": "stdout"
        }
      ]
    },
    {
      "metadata": {
        "id": "Zq1MKhEIC5Vc",
        "colab_type": "code",
        "colab": {}
      },
      "cell_type": "code",
      "source": [
        "x = 3\n",
        "print (\"x+1, x*2, x**2: \", x+1,\",\", x*2,\",\", x**2)\n",
        "x += 1\n",
        "print (\"x =\", x)"
      ],
      "execution_count": 0,
      "outputs": []
    },
    {
      "metadata": {
        "id": "-Fd3n8kVtqD0",
        "colab_type": "text"
      },
      "cell_type": "markdown",
      "source": [
        "something to watch out for. The limitations of floating point representations"
      ]
    },
    {
      "metadata": {
        "id": "Q-66NZvNtxKM",
        "colab_type": "code",
        "colab": {}
      },
      "cell_type": "code",
      "source": [
        ".1 + .1 +.1 == .3 # because of the way .1 is represented in binary, these are not equal\n",
        "                  # keep this in mind when you are coding"
      ],
      "execution_count": 0,
      "outputs": []
    },
    {
      "metadata": {
        "id": "Q9mFNZNgC5Vk",
        "colab_type": "text"
      },
      "cell_type": "markdown",
      "source": [
        "### Booleans"
      ]
    },
    {
      "metadata": {
        "id": "-xoVEGcNC5Vm",
        "colab_type": "code",
        "outputId": "8b5dc0b7-9ac4-4b70-8fde-a0d9827ea01b",
        "colab": {
          "base_uri": "https://localhost:8080/",
          "height": 122
        }
      },
      "cell_type": "code",
      "source": [
        "x = 3 # 11\n",
        "y = 2 # 10 False\n",
        "\n",
        "#AND: Evaluates to true only when both are True \n",
        "#OR: Evaluates to true at east when one of them is True\n",
        "#NOT: Flips the truth value\n",
        "  \n",
        "print( \"x and y : \", x and y) # logical and\n",
        "print (\"x or y : \", x or y)  # logical or\n",
        "print (\"not x : \", not x)   # logical not\n",
        "print (\"x != y : \", x != y)  # logical xor\n",
        "print (\"x == y : \", x == y )\n",
        "\n",
        "print(0.1*3)"
      ],
      "execution_count": 0,
      "outputs": [
        {
          "output_type": "stream",
          "text": [
            "x and y :  2\n",
            "x or y :  3\n",
            "not x :  False\n",
            "x != y :  True\n",
            "x == y :  False\n",
            "0.30000000000000004\n"
          ],
          "name": "stdout"
        }
      ]
    },
    {
      "metadata": {
        "id": "Wdwv5gIPC5Vq",
        "colab_type": "text"
      },
      "cell_type": "markdown",
      "source": [
        "### Strings"
      ]
    },
    {
      "metadata": {
        "id": "IUvRN2VdC5Vr",
        "colab_type": "code",
        "outputId": "24729cd0-5be3-4839-e254-877815b464ff",
        "colab": {
          "base_uri": "https://localhost:8080/",
          "height": 157
        }
      },
      "cell_type": "code",
      "source": [
        "greet = \"Hello World\"\n",
        "print (greet)\n",
        "print (greet[0])\n",
        "print (greet[0:3]) #[inclusive,exclusive]\n",
        "print( greet[3:])\n",
        "print (\"Hello\" + ' ' + 'World')\n",
        "print( len(greet)) # Gives the length of string\n",
        "print (greet + ' ' + str(42))\n",
        "print (greet, 42)\n",
        "\n",
        "a = a + 1\n",
        "\n",
        "a+=1\n",
        "a*=5"
      ],
      "execution_count": 0,
      "outputs": [
        {
          "output_type": "stream",
          "text": [
            "Hello World\n",
            "H\n",
            "Hel\n",
            "lo World\n",
            "Hello World\n",
            "11\n",
            "Hello World 42\n",
            "Hello World 42\n"
          ],
          "name": "stdout"
        }
      ]
    },
    {
      "metadata": {
        "id": "WV3rpw7xC5Vu",
        "colab_type": "text"
      },
      "cell_type": "markdown",
      "source": [
        "Some string methods:"
      ]
    },
    {
      "metadata": {
        "id": "wBWywQM4C5Vw",
        "colab_type": "code",
        "outputId": "5a36dd34-8c0a-4f78-b625-2bafab1fcaef",
        "colab": {
          "base_uri": "https://localhost:8080/",
          "height": 104
        }
      },
      "cell_type": "code",
      "source": [
        "print (greet.lower()) # Convert string to lowercase\n",
        "print (greet.upper() )# Convert string to uppercase\n",
        "print (greet) #\n",
        "str2 = \"abc.def.ghi\" # Note that this does not change the original string\n",
        "print (str2.split('.')) # split based on space\n",
        "print (greet.split('ll')) # split based on 'll'"
      ],
      "execution_count": 0,
      "outputs": [
        {
          "output_type": "stream",
          "text": [
            "hello world\n",
            "HELLO WORLD\n",
            "Hello World\n",
            "['abc', 'def', 'ghi']\n",
            "['He', 'o World']\n"
          ],
          "name": "stdout"
        }
      ]
    },
    {
      "metadata": {
        "id": "eCEh-YSiC5Vz",
        "colab_type": "code",
        "colab": {}
      },
      "cell_type": "code",
      "source": [
        "#Strings are immutable\n",
        "greet[0]='a'"
      ],
      "execution_count": 0,
      "outputs": []
    },
    {
      "metadata": {
        "id": "jrG7bJLejFZm",
        "colab_type": "text"
      },
      "cell_type": "markdown",
      "source": [
        "#### Useful String functions"
      ]
    },
    {
      "metadata": {
        "id": "6U9CcujUjNZi",
        "colab_type": "text"
      },
      "cell_type": "markdown",
      "source": [
        "The split function"
      ]
    },
    {
      "metadata": {
        "id": "oWwB28q7jMJ7",
        "colab_type": "code",
        "outputId": "61f95c77-b29e-4c00-8c5b-3fe32d239324",
        "colab": {
          "base_uri": "https://localhost:8080/",
          "height": 87
        }
      },
      "cell_type": "code",
      "source": [
        "x = 'blue,red,green'\n",
        "print(x.split(\",\")) #splits data based on input\n",
        "\n",
        "a,b,c = x.split(\",\")\n",
        "print(\"a:\",a)\n",
        "print(\"b:\",b)\n",
        "print(\"c:\",c)"
      ],
      "execution_count": 0,
      "outputs": [
        {
          "output_type": "stream",
          "text": [
            "['blue', 'red', 'green']\n",
            "a: blue\n",
            "b: red\n",
            "c: green\n"
          ],
          "name": "stdout"
        }
      ]
    },
    {
      "metadata": {
        "id": "mPOJesNCjQ1u",
        "colab_type": "text"
      },
      "cell_type": "markdown",
      "source": [
        "the join function"
      ]
    },
    {
      "metadata": {
        "id": "8zbb8wzPjYE4",
        "colab_type": "code",
        "colab": {}
      },
      "cell_type": "code",
      "source": [
        "s = \"-\"\n",
        "print (s.join([a,b,c])) # joins different strings together with common criteria"
      ],
      "execution_count": 0,
      "outputs": []
    },
    {
      "metadata": {
        "id": "t1EC4vAjC5V3",
        "colab_type": "text"
      },
      "cell_type": "markdown",
      "source": [
        "## Data Structures"
      ]
    },
    {
      "metadata": {
        "id": "E3Ng-kX0C5V4",
        "colab_type": "text"
      },
      "cell_type": "markdown",
      "source": [
        "### Lists"
      ]
    },
    {
      "metadata": {
        "id": "SJCD-rCnC5V4",
        "colab_type": "code",
        "outputId": "4c95c6b9-964f-49f2-ac47-d3a52320ec90",
        "colab": {
          "base_uri": "https://localhost:8080/",
          "height": 87
        }
      },
      "cell_type": "code",
      "source": [
        "#Python lists are dynamic typed. They can contain anything\n",
        "arr = [\"Hello\", True, 42]\n",
        "print (arr)\n",
        "arr = arr + ['100.4']\n",
        "print(arr)\n",
        "#print (list(map(lambda x : type(x), arr)))\n",
        "\n",
        "arr = \"The quick brown fox jumps over the lazy dog\".split()\n",
        "print (arr)  # prints the entire list\n",
        "print (len(arr)) # prints length of the list"
      ],
      "execution_count": 0,
      "outputs": [
        {
          "output_type": "stream",
          "text": [
            "['Hello', True, 42]\n",
            "['Hello', True, 42, '100.4']\n",
            "['The', 'quick', 'brown', 'fox', 'jumps', 'over', 'the', 'lazy', 'dog']\n",
            "9\n"
          ],
          "name": "stdout"
        }
      ]
    },
    {
      "metadata": {
        "id": "FcscTNWwC5V8",
        "colab_type": "code",
        "colab": {}
      },
      "cell_type": "code",
      "source": [
        "print (arr[0]) # Prints the first elemnt\n",
        "print (arr[3]) # Prints 4th element\n",
        "print (arr[-1])# Prints the last element ( negative indexes are also supported )"
      ],
      "execution_count": 0,
      "outputs": []
    },
    {
      "metadata": {
        "id": "AYfKGzwxC5WD",
        "colab_type": "code",
        "colab": {}
      },
      "cell_type": "code",
      "source": [
        "# Modify elements with simple assignment\n",
        "arr[7] = \"sleeping\"\n",
        "print (arr)\n",
        "\n",
        "# Replacing multiple elements is just as simple\n",
        "arr[0:4] = [\"Nimble\",\"Jack\"]\n",
        "print (arr)\n",
        "\n",
        "# Delete elements with del\n",
        "del arr[-2:]\n",
        "print (arr)\n",
        "\n",
        "# Add elements with .append()\n",
        "arr.append(\"candlestick\")\n",
        "print (arr)"
      ],
      "execution_count": 0,
      "outputs": []
    },
    {
      "metadata": {
        "id": "pWd2xUXEC5WH",
        "colab_type": "code",
        "colab": {}
      },
      "cell_type": "code",
      "source": [
        "# Join is used to concatenate a list into a string\n",
        "' '.join(arr)"
      ],
      "execution_count": 0,
      "outputs": []
    },
    {
      "metadata": {
        "id": "oPcKWTWdC5WM",
        "colab_type": "text"
      },
      "cell_type": "markdown",
      "source": [
        "#### Slicing"
      ]
    },
    {
      "metadata": {
        "id": "C9YfXRw5C5WN",
        "colab_type": "code",
        "colab": {}
      },
      "cell_type": "code",
      "source": [
        "#Syntax: [start : end : stride]\n",
        "\n",
        "a = [8,6,7,5,3,0,9]\n",
        "\n",
        "print (\"a = \", a)      \n",
        "print (\"a[2:5] = \", a[2:5])    # Get a slice from index 2 to 5 (exclusive)\n",
        "print (\"a[:2] = \", a[:2] )      # Get a slice from the start to index 2 (exclusive)\n",
        "print (\"a[2:] = \", a[2:] )    # Get a slice from index 2 to the end\n",
        "print (\"a[:-2] =\", a[:-2])      # Slice indices can be negative"
      ],
      "execution_count": 0,
      "outputs": []
    },
    {
      "metadata": {
        "id": "Pr8icjLtC5WR",
        "colab_type": "code",
        "outputId": "54b5839a-6f0c-41a1-a9b1-53869b2a57b5",
        "colab": {
          "base_uri": "https://localhost:8080/",
          "height": 87
        }
      },
      "cell_type": "code",
      "source": [
        "b = list(range(16))     # Range is a built in function that gives a list of n integers\n",
        "print (\"b = \", b)\n",
        "print (\"b[0::2] =\", b[0::2])     # Add a number to the slice to indicate what to count by\n",
        "print (\"b[1::2] = \", b[1::2])\n",
        "print (\"b[::-2] =\", b[::-2])    # Can also count down"
      ],
      "execution_count": 0,
      "outputs": [
        {
          "output_type": "stream",
          "text": [
            "b =  [0, 1, 2, 3, 4, 5, 6, 7, 8, 9, 10, 11, 12, 13, 14, 15]\n",
            "b[0::2] = [0, 2, 4, 6, 8, 10, 12, 14]\n",
            "b[1::2] =  [1, 3, 5, 7, 9, 11, 13, 15]\n",
            "b[::-2] = [15, 13, 11, 9, 7, 5, 3, 1]\n"
          ],
          "name": "stdout"
        }
      ]
    },
    {
      "metadata": {
        "id": "XL8TUZjJC5WU",
        "colab_type": "text"
      },
      "cell_type": "markdown",
      "source": [
        "#### List Comprehensions"
      ]
    },
    {
      "metadata": {
        "id": "WU5oawL4C5WU",
        "colab_type": "code",
        "colab": {}
      },
      "cell_type": "code",
      "source": [
        "a = [i**2 for i in range(10)]\n",
        "print (a)\n",
        "\n",
        "a = [i for i in range(1,20) if i%3 == 0]\n",
        "print (a)\n"
      ],
      "execution_count": 0,
      "outputs": []
    },
    {
      "metadata": {
        "id": "OkJ538pnDAnE",
        "colab_type": "text"
      },
      "cell_type": "markdown",
      "source": [
        "#### List iteration"
      ]
    },
    {
      "metadata": {
        "id": "wsH4X0aFC-C0",
        "colab_type": "code",
        "colab": {}
      },
      "cell_type": "code",
      "source": [
        "l = [chr(n) for n in range(97,107)]\n",
        "\n",
        "#For loop (Cannot easily get index of elements)\n",
        "print(\"Simple for loop:\")\n",
        "for num in l:\n",
        "    print (num)\n",
        "    \n",
        "#Java style loop\n",
        "print(\"\\nJava style for loop:\")\n",
        "for i in range(len(l)):\n",
        "    print (i,l[i])\n",
        "    \n",
        "#Enumeration loop\n",
        "print(\"\\nEnumeration loop style for loop:\")\n",
        "for i,num in enumerate(l):\n",
        "    print (i,num)\n"
      ],
      "execution_count": 0,
      "outputs": []
    },
    {
      "metadata": {
        "id": "eHRyEpuHC5WX",
        "colab_type": "text"
      },
      "cell_type": "markdown",
      "source": [
        "### Dictionary"
      ]
    },
    {
      "metadata": {
        "id": "cS-QPCWVC5WY",
        "colab_type": "code",
        "colab": {}
      },
      "cell_type": "code",
      "source": [
        "d = {\"Name\":\"Harry\", \"Age\":11, \"Address\":\"4 Privet Drive, Little Whinging, Surrey\"}\n",
        "print (d)\n",
        "\n",
        "# get value based on key\n",
        "print (d[\"Name\"] )\n",
        "\n",
        "# change an existing value \n",
        "d[\"Address\"] = 'Hogwarts' \n",
        "print (d)\n",
        "\n",
        "# insert new element\n",
        "d[\"Godfather\"] = \"Sirius\" \n",
        "print (d)\n",
        "\n",
        "# delete a key-value pair\n",
        "del d[\"Godfather\"] \n",
        "print (d)"
      ],
      "execution_count": 0,
      "outputs": []
    },
    {
      "metadata": {
        "id": "OwKgtLHMC5Wb",
        "colab_type": "code",
        "colab": {}
      },
      "cell_type": "code",
      "source": [
        "# Iterating over dictionary keys\n",
        "for key in d:\n",
        "    print( key, \":\", d[key])\n",
        "    \n",
        "for key,value in d.items():    #this was previously d.iteritems() in python2\n",
        "    print (key,value)"
      ],
      "execution_count": 0,
      "outputs": []
    },
    {
      "metadata": {
        "id": "0HiEcQkgC5Wd",
        "colab_type": "text"
      },
      "cell_type": "markdown",
      "source": [
        "### Tuples"
      ]
    },
    {
      "metadata": {
        "id": "D9cBN2HOC5We",
        "colab_type": "code",
        "colab": {}
      },
      "cell_type": "code",
      "source": [
        "# Like lists, tuples are ordered collections of objects with varying data types\n",
        "t = (12345, 54321, 'hello!')\n",
        "print (t)\n",
        "print (t[2])\n",
        "\n",
        "# Unlike lists, tuples are immutable\n",
        "t[0] = 42"
      ],
      "execution_count": 0,
      "outputs": []
    },
    {
      "metadata": {
        "id": "jy33OnpgC5Wi",
        "colab_type": "text"
      },
      "cell_type": "markdown",
      "source": [
        "## Control Flow"
      ]
    },
    {
      "metadata": {
        "id": "iUzecZb9C5Wj",
        "colab_type": "text"
      },
      "cell_type": "markdown",
      "source": [
        "### if, elif, else"
      ]
    },
    {
      "metadata": {
        "id": "oEftIalPC5Wk",
        "colab_type": "code",
        "outputId": "4ace7834-2914-42b7-e829-79b355eb3fc4",
        "colab": {
          "base_uri": "https://localhost:8080/",
          "height": 52
        }
      },
      "cell_type": "code",
      "source": [
        "#if statement, python is all about indentations!\n",
        "x=3\n",
        "if x>0:\n",
        "    print (\"I do not like green eggs and ham\")\n",
        "elif x == 0 : \n",
        "    print (\"I do not like them\")\n",
        "else: #x<=0\n",
        "    print (\"Sam-I-am\")\n",
        "   \n",
        "  \n",
        "y = 33\n",
        "\n",
        "if y%2 == 1 and y%5 == 0:\n",
        "  print(\"Yes\")\n",
        "else:\n",
        "  print(\"No\")"
      ],
      "execution_count": 0,
      "outputs": [
        {
          "output_type": "stream",
          "text": [
            "I do not like green eggs and ham\n",
            "No\n"
          ],
          "name": "stdout"
        }
      ]
    },
    {
      "metadata": {
        "id": "pKXLwg5HC5Wm",
        "colab_type": "text"
      },
      "cell_type": "markdown",
      "source": [
        "#### Loops"
      ]
    },
    {
      "metadata": {
        "id": "bFHqsHH6C5Wm",
        "colab_type": "code",
        "colab": {}
      },
      "cell_type": "code",
      "source": [
        "a = list(range(1,6))\n",
        "print (a)\n",
        "\n",
        "# Qns:\n",
        "  \n",
        "# 1. print all even numbers between 1 and 10\n",
        "# 2. print the first 20 odd numbers\n",
        "\n",
        "\n",
        "# While loops continue until condition is false\n",
        "while len(a) < 10:\n",
        "  a.append(0)\n",
        "  print (a)\n",
        "\n",
        "for element in a:\n",
        "    if element >= 3:\n",
        "        print (element)\n",
        "    element = 5\n",
        "print (a)\n",
        "\n",
        "# Alternatively, loop through indices\n",
        "range(len(a))\n",
        "for i in range(len(a)):\n",
        "    a[i] += 5\n",
        "print (a)"
      ],
      "execution_count": 0,
      "outputs": []
    },
    {
      "metadata": {
        "id": "PziwlUzIPLDi",
        "colab_type": "code",
        "outputId": "23e4eacd-f926-4034-e309-c078586c7ba0",
        "colab": {
          "base_uri": "https://localhost:8080/",
          "height": 122
        }
      },
      "cell_type": "code",
      "source": [
        "for i in range(1,11):\n",
        "  if i%2 == 0:\n",
        "    print(i)\n",
        "    \n",
        "l_odd = []\n",
        "i = 1\n",
        "while len(l_odd)<=20:\n",
        "  if i%2 == 1:\n",
        "    l_odd+=[i]\n",
        "  i+=1\n",
        "print(l_odd)"
      ],
      "execution_count": 0,
      "outputs": [
        {
          "output_type": "stream",
          "text": [
            "2\n",
            "4\n",
            "6\n",
            "8\n",
            "10\n",
            "[1, 3, 5, 7, 9, 11, 13, 15, 17, 19, 21, 23, 25, 27, 29, 31, 33, 35, 37, 39, 41]\n"
          ],
          "name": "stdout"
        }
      ]
    },
    {
      "metadata": {
        "id": "zAd_wOcHC5Wp",
        "colab_type": "text"
      },
      "cell_type": "markdown",
      "source": [
        "## Functions"
      ]
    },
    {
      "metadata": {
        "id": "G1_7cBFQC5Wp",
        "colab_type": "code",
        "outputId": "7a418bc3-18fa-4deb-9648-d8374870c543",
        "colab": {
          "base_uri": "https://localhost:8080/",
          "height": 579
        }
      },
      "cell_type": "code",
      "source": [
        "#You can define your own functions:\n",
        "def func(x):\n",
        "    return x*2\n",
        "def odd_or_even(num):\n",
        "  print(num)\n",
        "  if num%2 == 0:\n",
        "    return \"even\"\n",
        "  else:\n",
        "    return \"odd\"\n",
        "  \n",
        "for i in range(1,11):\n",
        "  print(odd_or_even(i))\n",
        "  \n",
        "#The type is inferred by Python\n",
        "print (\"func(5) = \", func(5))\n",
        "\n",
        "#Python also makes your functions polymorphic whenever it can\n",
        "print (\"func('string') = \", func('string'))\n",
        "\n",
        "# Functions can have default parameters\n",
        "import math\n",
        "def exp(exponent, base=math.e):\n",
        "    return base ** exponent\n",
        "\n",
        "print (\"e^4 =\", exp(4))\n",
        "print (\"2^4 =\", exp(4,2))\n",
        "\n",
        "\n",
        "\n",
        "\n",
        "\n",
        "# Parameters are passed by reference\n",
        "def add_key(db, x, y):\n",
        "    db[x] = y\n",
        "    x = 5\n",
        "    \n",
        "\n",
        "d = {'Name': 'Harry', 'Age': 11, 'Address': 'Hogwarts'}\n",
        "\n",
        "print (d)\n",
        "g = \"occupation\"\n",
        "add_key(d, g, \"Wizard\")\n",
        "print( \"d after add_key: \", d)\n",
        "print (g)\n",
        "\n",
        "print(odd_or_even(10))\n",
        "print(odd_or_even(33))\n",
        "\n"
      ],
      "execution_count": 0,
      "outputs": [
        {
          "output_type": "stream",
          "text": [
            "1\n",
            "odd\n",
            "2\n",
            "even\n",
            "3\n",
            "odd\n",
            "4\n",
            "even\n",
            "5\n",
            "odd\n",
            "6\n",
            "even\n",
            "7\n",
            "odd\n",
            "8\n",
            "even\n",
            "9\n",
            "odd\n",
            "10\n",
            "even\n",
            "func(5) =  10\n",
            "func('string') =  stringstring\n",
            "e^4 = 54.59815003314423\n",
            "2^4 = 16\n",
            "{'Name': 'Harry', 'Age': 11, 'Address': 'Hogwarts'}\n",
            "d after add_key:  {'Name': 'Harry', 'Age': 11, 'Address': 'Hogwarts', 'occupation': 'Wizard'}\n",
            "occupation\n",
            "10\n",
            "even\n",
            "33\n",
            "odd\n"
          ],
          "name": "stdout"
        }
      ]
    },
    {
      "metadata": {
        "id": "5yDYo650C5Wu",
        "colab_type": "text"
      },
      "cell_type": "markdown",
      "source": [
        "A slightly more complicated example"
      ]
    },
    {
      "metadata": {
        "id": "v5S2QPfOC5Wv",
        "colab_type": "code",
        "colab": {}
      },
      "cell_type": "code",
      "source": [
        "from random import randint\n",
        "\n",
        "# a function which implements quicksort\n",
        "def quicksort(arr):\n",
        "    if len(arr) <= 1:\n",
        "        return arr\n",
        "    pivot = arr[randint(0,len(arr)-1)]\n",
        "    left = [x for x in arr if x < pivot]\n",
        "    middle = [x for x in arr if x == pivot]\n",
        "    right = [x for x in arr if x > pivot]\n",
        "    return quicksort(left) + middle + quicksort(right)\n",
        "\n",
        "print (\"quicksort([3,6,8,10,1,2,1,4,7]) = \", quicksort([3,6,8,10,1,2,1,4,7]))"
      ],
      "execution_count": 0,
      "outputs": []
    },
    {
      "metadata": {
        "id": "byJ2Xl9MC5Wy",
        "colab_type": "code",
        "colab": {}
      },
      "cell_type": "code",
      "source": [
        "# Lambdas are one-liner functions\n",
        "# lambda input : output\n",
        "cube = lambda x : x**3 \n",
        "print (\"cube(3) : \", cube(3))\n",
        "\n",
        "even = lambda x : x%2 == 0 \n",
        "print (\"even(7) : \", even(7))\n",
        "\n",
        "add = lambda x,y : x + y \n",
        "print (\"add(3,7) : \", add(3,7))"
      ],
      "execution_count": 0,
      "outputs": []
    },
    {
      "metadata": {
        "id": "0VH8GKpOC5W4",
        "colab_type": "text"
      },
      "cell_type": "markdown",
      "source": [
        "### Map and Filter"
      ]
    },
    {
      "metadata": {
        "id": "p0BQVsMnC5W5",
        "colab_type": "code",
        "colab": {}
      },
      "cell_type": "code",
      "source": [
        "arr = [1,2,3,4,5,6,7,8,9,10]\n",
        "print (\"arr = \", arr)\n",
        "\n",
        "# map() applies a function to each element in one or more lists\n",
        "print (\"map(cube, arr) : \", list(map(cube, arr)))\n",
        "print (\"map(add, arr, arr[::-1]) : \", list(map(add, arr, arr[::-1])))\n",
        "\n",
        "# filter() removes elements from a list given some criteria\n",
        "print (\"filter(even, arr) : \", list(filter(even, arr)))"
      ],
      "execution_count": 0,
      "outputs": []
    },
    {
      "metadata": {
        "id": "mPGl_pBzC5XB",
        "colab_type": "text"
      },
      "cell_type": "markdown",
      "source": [
        "## Saving and loading things\n",
        "\n",
        "You can use pickle package to dump objects as such to the system for re-using them later."
      ]
    },
    {
      "metadata": {
        "id": "tlbdPNQ4a2rH",
        "colab_type": "code",
        "outputId": "02507ba2-df29-43e3-fefe-8cfb535cbcd0",
        "colab": {
          "base_uri": "https://localhost:8080/",
          "height": 1942
        }
      },
      "cell_type": "code",
      "source": [
        "f = open('filename.txt','w') # w - write, r - read, a - append\n",
        "str1 = 'hello world'\n",
        "f.write(str1)\n",
        "f.close()\n",
        "\n",
        "fb = open('filename.txt','r')\n",
        "\n",
        "lines = fb.readlines()\n",
        "#print(lines)\n",
        "\n",
        "#Qn: create two files \"odd.txt\" and \"even.txt\". Write all even numbers between 1 and 100 \n",
        " # into the even.txt and odd numbers to odd.txt. \n",
        "  \n",
        "  #read from odd.txt and print the first 10 odd numbers.\n",
        "  \n",
        "\n",
        "def odd_or_even(num):\n",
        "  print(num)\n",
        "  if num%2 == 0:\n",
        "    return True\n",
        "  else:\n",
        "    return False\n",
        "  \n",
        "f_even = open('even.txt','w')\n",
        "f_odd = open('odd.txt','w')\n",
        "\n",
        "for i in range(1,101):\n",
        "  if odd_or_even(i):\n",
        "    f_even.write(str(i)+'\\n')\n",
        "  else:\n",
        "    f_odd.write(str(i)+'\\n')\n",
        "\n",
        "f_even.close()\n",
        "f_odd.close()\n",
        "\n",
        "f = open('odd.txt','r')\n",
        "lines = f.readlines()\n",
        "\n",
        "#print(lines[:10])\n",
        "\n",
        "for i in range(10):\n",
        "  print(lines[i].split()[0])\n",
        "\n",
        "f.close()"
      ],
      "execution_count": 0,
      "outputs": [
        {
          "output_type": "stream",
          "text": [
            "1\n",
            "2\n",
            "3\n",
            "4\n",
            "5\n",
            "6\n",
            "7\n",
            "8\n",
            "9\n",
            "10\n",
            "11\n",
            "12\n",
            "13\n",
            "14\n",
            "15\n",
            "16\n",
            "17\n",
            "18\n",
            "19\n",
            "20\n",
            "21\n",
            "22\n",
            "23\n",
            "24\n",
            "25\n",
            "26\n",
            "27\n",
            "28\n",
            "29\n",
            "30\n",
            "31\n",
            "32\n",
            "33\n",
            "34\n",
            "35\n",
            "36\n",
            "37\n",
            "38\n",
            "39\n",
            "40\n",
            "41\n",
            "42\n",
            "43\n",
            "44\n",
            "45\n",
            "46\n",
            "47\n",
            "48\n",
            "49\n",
            "50\n",
            "51\n",
            "52\n",
            "53\n",
            "54\n",
            "55\n",
            "56\n",
            "57\n",
            "58\n",
            "59\n",
            "60\n",
            "61\n",
            "62\n",
            "63\n",
            "64\n",
            "65\n",
            "66\n",
            "67\n",
            "68\n",
            "69\n",
            "70\n",
            "71\n",
            "72\n",
            "73\n",
            "74\n",
            "75\n",
            "76\n",
            "77\n",
            "78\n",
            "79\n",
            "80\n",
            "81\n",
            "82\n",
            "83\n",
            "84\n",
            "85\n",
            "86\n",
            "87\n",
            "88\n",
            "89\n",
            "90\n",
            "91\n",
            "92\n",
            "93\n",
            "94\n",
            "95\n",
            "96\n",
            "97\n",
            "98\n",
            "99\n",
            "100\n",
            "1\n",
            "3\n",
            "5\n",
            "7\n",
            "9\n",
            "11\n",
            "13\n",
            "15\n",
            "17\n",
            "19\n"
          ],
          "name": "stdout"
        }
      ]
    },
    {
      "metadata": {
        "id": "5A_CxNE9C5XC",
        "colab_type": "code",
        "colab": {}
      },
      "cell_type": "code",
      "source": [
        "with open('bottles.txt','w') as fout:\n",
        "    for i in range(99):\n",
        "        n = 99\n",
        "        while n > 0:\n",
        "            fout.write('%d bottles of beer on the wall, %d bottles of beer...\\n'%(n,n))\n",
        "            n -= 1\n",
        "            fout.write('Take one down, pass it around, %d bottles of beer on the wall!\\n\\n'%n)\n",
        "        fout.write('No more bottles of beer on the wall, no more bottles of beer...\\n')\n",
        "        fout.write('Go to the store and buy some more, 99 bottles of beer on the wall!\\n')\n",
        "\n",
        "fin = open('test.txt','w')\n",
        "fin.write(\"sjkdhbfkjshdbf\")\n",
        "fin.close()\n",
        "        \n",
        "with open('bottles.txt','r') as fin:\n",
        "    for i in range(5):\n",
        "        print (next(fin).strip())\n",
        "        "
      ],
      "execution_count": 0,
      "outputs": []
    },
    {
      "metadata": {
        "id": "W4VtDLUjC5XE",
        "colab_type": "code",
        "colab": {}
      },
      "cell_type": "code",
      "source": [
        "d = {\"Name\":\"Harry\", \"Age\":11, \"Address\":\"4 Privet Drive, Little Whinging, Surrey\"}\n",
        "\n",
        "import pickle\n",
        "# saving objects\n",
        "pickle.dump(d, open('db_save_file.pkl',\"wb\")) # \"wb\" denotes write binary mode\n",
        "\n",
        "# loading objects\n",
        "stored_dict = pickle.load(open('db_save_file.pkl',\"rb\")) # \"rb\" denotes read binary mode\n",
        "\n",
        "d == stored_dict"
      ],
      "execution_count": 0,
      "outputs": []
    },
    {
      "metadata": {
        "id": "mNGj0H8j17N3",
        "colab_type": "text"
      },
      "cell_type": "markdown",
      "source": [
        "you can read more about opening files in python: https://www.pythonforbeginners.com/cheatsheet/python-file-handling\n",
        "\n",
        "and about pickle:\n",
        "https://docs.python.org/3/library/pickle.html"
      ]
    },
    {
      "metadata": {
        "id": "gJfks7prC5XH",
        "colab_type": "text"
      },
      "cell_type": "markdown",
      "source": [
        "## Classes "
      ]
    },
    {
      "metadata": {
        "id": "r4TWtMF-C5XI",
        "colab_type": "text"
      },
      "cell_type": "markdown",
      "source": [
        "Using Python's Object Oriented features will greatly simplify the implementations you have to do in this course."
      ]
    },
    {
      "metadata": {
        "id": "EqQCThJ7C5XJ",
        "colab_type": "code",
        "outputId": "035385ff-fa21-4f4e-8499-997ff6c81a41",
        "colab": {
          "base_uri": "https://localhost:8080/",
          "height": 542
        }
      },
      "cell_type": "code",
      "source": [
        "class MyClass:\n",
        "    \"\"\"A simple example class\"\"\"\n",
        "    x = 7\n",
        "        \n",
        "    def __init__(self, y):\n",
        "        \"\"\" Create a new MyClass object \"\"\"\n",
        "        self.y = y\n",
        "        \n",
        "    def multiply(self):\n",
        "        \"\"\" Give some information.  \"\"\"\n",
        "        # class methods must take \"self\" as an argument \n",
        "        # in order to access member variables and methods\n",
        "        return self.x * self.y\n",
        "\n",
        "    def swapAndSet(self, z):\n",
        "        \"\"\" Change some information \"\"\"\n",
        "        self.x, self.y = self.y, z\n",
        "    \n",
        "help(MyClass)"
      ],
      "execution_count": 0,
      "outputs": [
        {
          "output_type": "stream",
          "text": [
            "Help on class MyClass in module __main__:\n",
            "\n",
            "class MyClass(builtins.object)\n",
            " |  A simple example class\n",
            " |  \n",
            " |  Methods defined here:\n",
            " |  \n",
            " |  __init__(self, y)\n",
            " |      Create a new MyClass object\n",
            " |  \n",
            " |  multiply(self)\n",
            " |      Give some information.\n",
            " |  \n",
            " |  swapAndSet(self, z)\n",
            " |      Change some information\n",
            " |  \n",
            " |  ----------------------------------------------------------------------\n",
            " |  Data descriptors defined here:\n",
            " |  \n",
            " |  __dict__\n",
            " |      dictionary for instance variables (if defined)\n",
            " |  \n",
            " |  __weakref__\n",
            " |      list of weak references to the object (if defined)\n",
            " |  \n",
            " |  ----------------------------------------------------------------------\n",
            " |  Data and other attributes defined here:\n",
            " |  \n",
            " |  x = 7\n",
            "\n"
          ],
          "name": "stdout"
        }
      ]
    },
    {
      "metadata": {
        "id": "uiAs8hDsC5XN",
        "colab_type": "code",
        "colab": {}
      },
      "cell_type": "code",
      "source": [
        "obj = MyClass(13)\n",
        "print (\"obj.f() = \", obj.multiply())\n",
        "\n",
        "print (\"obj.x, obj.y = \", obj.x,\",\", obj.y)\n",
        "obj.swapAndSet(5)\n",
        "print (\"obj.x, obj.y = \", obj.x,\",\", obj.y)\n"
      ],
      "execution_count": 0,
      "outputs": []
    },
    {
      "metadata": {
        "id": "sQvU68QEV8ZG",
        "colab_type": "code",
        "outputId": "75c59c0b-7554-473b-902d-71b7214d1ce4",
        "colab": {
          "base_uri": "https://localhost:8080/",
          "height": 52
        }
      },
      "cell_type": "code",
      "source": [
        "class Human:\n",
        "  def __init__(self,name,profession):\n",
        "    self.name = name\n",
        "    self.profession = profession\n",
        "  \n",
        "  def Eats(self):\n",
        "    print(self.name + ' is eating.')\n",
        "  \n",
        "  def Works(self):\n",
        "    print(self.name + ' works as ' + self.profession)\n",
        "    \n",
        "  def Sleeps(self):\n",
        "    print(self.name + ' says good night!')\n",
        "    \n",
        "  def Plays(self):\n",
        "    print(self.name + ' plays!!!')\n",
        "    \n",
        " \n",
        " \n",
        "h1 = Human('Prasanna','Student')\n",
        "h2 = Human('Sarath','Student')\n",
        "\n",
        "h1.Sleeps()\n",
        "h2.Eats()"
      ],
      "execution_count": 0,
      "outputs": [
        {
          "output_type": "stream",
          "text": [
            "Prasanna says good night!\n",
            "Sarath is eating.\n"
          ],
          "name": "stdout"
        }
      ]
    },
    {
      "metadata": {
        "id": "iftDiYFEC5XR",
        "colab_type": "code",
        "colab": {}
      },
      "cell_type": "code",
      "source": [
        "Create a class Human. Let the human have a name and a profession. Methods: Works, Eats, Plays\n",
        "and  sleeps. \n",
        "\n",
        "Works: <name> works as <profession>\n",
        "Eats: <name> is eating.\n",
        "plays: <name> plays\n",
        "sleeps: <name> says good night!\n",
        "\n",
        "Create two instances. Invoke these methods (Works, Eats, Plays, Sleeps) \n",
        "with the two instances.\n",
        "\n",
        "\n",
        "Create a class Robot. Position Xpos, Ypos. Move: (axis, step). \n",
        "How_far_is_my_neighbor(otherrobot) returns the manhattan between the two robots.\n",
        "\n",
        "\n",
        "\n",
        "\n",
        "\n",
        "\n",
        "class Complex:\n",
        "    \"\"\" complex(real[, imag]) -> complex number\n",
        "        Create a complex number from a real part and an optional imaginary part.\n",
        "        This is equivalent to (real + imag*1j) where imag defaults to 0.\n",
        "    \"\"\"\n",
        "    def __init__(self, real, imag=0): #constructor \n",
        "        self.real = real\n",
        "        self.imag = imag\n",
        "        \n",
        "    def add(self, other):\n",
        "        self.real += other.real\n",
        "        self.imag += other.imag\n",
        "    \n",
        "    def __str__(self):\n",
        "        \"\"\" x.__str__() <=> str(x) \"\"\"\n",
        "        return \"%.4f + %.3fj\"%(self.real, self.imag)"
      ],
      "execution_count": 0,
      "outputs": []
    },
    {
      "metadata": {
        "id": "K2r5BXVnC5XT",
        "colab_type": "code",
        "outputId": "25cdd470-8441-4ca1-8614-a19b63e50079",
        "colab": {
          "base_uri": "https://localhost:8080/",
          "height": 69
        }
      },
      "cell_type": "code",
      "source": [
        "\n",
        "a = Complex(3.0,-4.5)\n",
        "b = Complex(-2, 2.3)\n",
        "print (\"a = \", a) # __str__ method is automatically called when we print an object\n",
        "print (\"b = \", b)\n",
        "a.add(b)\n",
        "print (\"a = \", a)"
      ],
      "execution_count": 0,
      "outputs": [
        {
          "output_type": "stream",
          "text": [
            "a =  3.0000 + -4.500j\n",
            "b =  -2.0000 + 2.300j\n",
            "a =  1.0000 + -2.200j\n"
          ],
          "name": "stdout"
        }
      ]
    },
    {
      "metadata": {
        "id": "6Xk9521DC5XX",
        "colab_type": "text"
      },
      "cell_type": "markdown",
      "source": [
        "# Numpy\n",
        "\n",
        "Numpy is a Python library which provides matrix manipulation capabilities and other standard numerical algorithms. Numpy and smart vectorization is the key to fast scientific computing in Python.\n",
        "\n",
        "Let's import numpy first:"
      ]
    },
    {
      "metadata": {
        "id": "ieK5f5sZC5XY",
        "colab_type": "code",
        "colab": {}
      },
      "cell_type": "code",
      "source": [
        "import numpy as np"
      ],
      "execution_count": 0,
      "outputs": []
    },
    {
      "metadata": {
        "id": "-ImTh5xaC5Xa",
        "colab_type": "text"
      },
      "cell_type": "markdown",
      "source": [
        "## Arrays"
      ]
    },
    {
      "metadata": {
        "id": "20uVHI9sC5Xb",
        "colab_type": "text"
      },
      "cell_type": "markdown",
      "source": [
        "You can create arrays from lists: "
      ]
    },
    {
      "metadata": {
        "id": "cDzsaArrC5Xb",
        "colab_type": "code",
        "outputId": "86f37e13-b935-4758-d90e-eba5bf735a3c",
        "colab": {
          "base_uri": "https://localhost:8080/",
          "height": 122
        }
      },
      "cell_type": "code",
      "source": [
        "x = np.array([[1,2,3,4]])\n",
        "print(x)\n",
        "print(x.shape)\n",
        "print(x.T)\n"
      ],
      "execution_count": 0,
      "outputs": [
        {
          "output_type": "stream",
          "text": [
            "[[1 2 3 4]]\n",
            "(1, 4)\n",
            "[[1]\n",
            " [2]\n",
            " [3]\n",
            " [4]]\n"
          ],
          "name": "stdout"
        }
      ]
    },
    {
      "metadata": {
        "id": "PY6MlJEiC5Xf",
        "colab_type": "text"
      },
      "cell_type": "markdown",
      "source": [
        "Similarly, you can define a numpy matrix as:"
      ]
    },
    {
      "metadata": {
        "id": "k_6DDa3YC5Xg",
        "colab_type": "code",
        "colab": {}
      },
      "cell_type": "code",
      "source": [
        "X = np.array([[1,2,3], [4,5,6]])\n",
        "#X = np.matrix([[].[]])\n",
        "print(X)\n",
        "print(X.shape)"
      ],
      "execution_count": 0,
      "outputs": []
    },
    {
      "metadata": {
        "id": "WD6cT1OaC5Xk",
        "colab_type": "code",
        "colab": {}
      },
      "cell_type": "code",
      "source": [
        "X = np.eye(3)# np.ones, np.zeros\n",
        "print (X)"
      ],
      "execution_count": 0,
      "outputs": []
    },
    {
      "metadata": {
        "id": "kxnzrdsLC5Xo",
        "colab_type": "code",
        "colab": {}
      },
      "cell_type": "code",
      "source": [
        "X = np.random.random((4,4)) # Create an array filled with random values\n",
        "print (X)"
      ],
      "execution_count": 0,
      "outputs": []
    },
    {
      "metadata": {
        "id": "N3SKXmQ4C5Xq",
        "colab_type": "text"
      },
      "cell_type": "markdown",
      "source": [
        "### Indexing \n",
        "\n",
        "Similar to that of lists. Selecting all rows except the first and select all columns:"
      ]
    },
    {
      "metadata": {
        "id": "QJ1s1SP7C5Xr",
        "colab_type": "code",
        "colab": {}
      },
      "cell_type": "code",
      "source": [
        "#accessing an element; Matrix[column,row]\n",
        "X[0,0]"
      ],
      "execution_count": 0,
      "outputs": []
    },
    {
      "metadata": {
        "id": "0cLZlVPRC5Xu",
        "colab_type": "code",
        "colab": {}
      },
      "cell_type": "code",
      "source": [
        "#selecting the first row\n",
        "X[0,:]"
      ],
      "execution_count": 0,
      "outputs": []
    },
    {
      "metadata": {
        "id": "vCk-zRuIC5Xx",
        "colab_type": "code",
        "colab": {}
      },
      "cell_type": "code",
      "source": [
        "#Selecting all rows except the first and select all columns:\n",
        "X[1:,:]"
      ],
      "execution_count": 0,
      "outputs": []
    },
    {
      "metadata": {
        "id": "xl_-CbxjC5X0",
        "colab_type": "code",
        "colab": {}
      },
      "cell_type": "code",
      "source": [
        "#select columns 0 and 2\n",
        "X[:,[0,2]]"
      ],
      "execution_count": 0,
      "outputs": []
    },
    {
      "metadata": {
        "id": "42v6Zla8C5X2",
        "colab_type": "text"
      },
      "cell_type": "markdown",
      "source": [
        "You can also index through boolean formulas:"
      ]
    },
    {
      "metadata": {
        "id": "YdGLA2nrC5X2",
        "colab_type": "code",
        "colab": {}
      },
      "cell_type": "code",
      "source": [
        "X < 0.5 #creates a boolean array"
      ],
      "execution_count": 0,
      "outputs": []
    },
    {
      "metadata": {
        "id": "ZWPNK14NC5X5",
        "colab_type": "code",
        "colab": {}
      },
      "cell_type": "code",
      "source": [
        "X[X < 0.5] #select all elements that are less than 0.5"
      ],
      "execution_count": 0,
      "outputs": []
    },
    {
      "metadata": {
        "id": "Gl9tevcDC5X9",
        "colab_type": "text"
      },
      "cell_type": "markdown",
      "source": [
        "### Array Math"
      ]
    },
    {
      "metadata": {
        "id": "9BVK3OY5C5X-",
        "colab_type": "code",
        "colab": {}
      },
      "cell_type": "code",
      "source": [
        "x = np.array([[1,2],[3,4]], dtype=np.float64)\n",
        "y = np.array([[5,6],[7,8]], dtype=np.float64)\n",
        "\n",
        "# Elementwise sum; both produce the array\n",
        "print (\"x + y = \\n\", x + y)\n",
        "print (\"np.add(x, y) = \\n\", np.add(x, y))"
      ],
      "execution_count": 0,
      "outputs": []
    },
    {
      "metadata": {
        "id": "wX2h6RqTC5YC",
        "colab_type": "text"
      },
      "cell_type": "markdown",
      "source": [
        "Use the dot function to compute inner products of vectors, to multiply a vector by a matrix, and to multiply matrices."
      ]
    },
    {
      "metadata": {
        "id": "JW_6VkUzC5YC",
        "colab_type": "code",
        "colab": {}
      },
      "cell_type": "code",
      "source": [
        "print (\"x.dot(y) = \\n\", x.dot(y))\n",
        "print (\"np.dot(x,y) = \\n\", np.dot(x, y))"
      ],
      "execution_count": 0,
      "outputs": []
    },
    {
      "metadata": {
        "id": "EJSw9EncC5YE",
        "colab_type": "text"
      },
      "cell_type": "markdown",
      "source": [
        "Of course, dimensions must match"
      ]
    },
    {
      "metadata": {
        "id": "iyzGsS6kC5YE",
        "colab_type": "code",
        "colab": {}
      },
      "cell_type": "code",
      "source": [
        "x2 = np.array([[1,2], [1,2]])\n",
        "print (\"np.shape(x2) = \", np.shape(x2))\n",
        "y2 = np.array([[1,2,3],[1,2,3],[1,2,3]])\n",
        "print (\"np.shape(y2) = \", np.shape(y2))\n",
        "np.dot(x2,y2)"
      ],
      "execution_count": 0,
      "outputs": []
    },
    {
      "metadata": {
        "id": "mXmlllYnC5YG",
        "colab_type": "code",
        "colab": {}
      },
      "cell_type": "code",
      "source": [
        "# calculate transpose and inverse\n",
        "x_transp = x.T\n",
        "print (\"x = \\n\", x)\n",
        "print (\"x_transp = \\n\",x_transp)\n",
        "x_inv = np.linalg.inv(x)\n",
        "print (\"x_inv = \\n\", x_inv)"
      ],
      "execution_count": 0,
      "outputs": []
    },
    {
      "metadata": {
        "id": "pXuYRLmYC5YJ",
        "colab_type": "text"
      },
      "cell_type": "markdown",
      "source": [
        "And now you have enough to do linear regression!"
      ]
    },
    {
      "metadata": {
        "id": "_uZrIwp7C5YK",
        "colab_type": "text"
      },
      "cell_type": "markdown",
      "source": [
        "# MatplotLib\n",
        "\n",
        "Matplotlib is a plotting library. As usual, we import it first"
      ]
    },
    {
      "metadata": {
        "id": "F4M69U2eC5YK",
        "colab_type": "code",
        "colab": {}
      },
      "cell_type": "code",
      "source": [
        "import matplotlib.pyplot as plt"
      ],
      "execution_count": 0,
      "outputs": []
    },
    {
      "metadata": {
        "id": "7aW-qKl0C5YL",
        "colab_type": "code",
        "colab": {}
      },
      "cell_type": "code",
      "source": [
        "%matplotlib inline"
      ],
      "execution_count": 0,
      "outputs": []
    },
    {
      "metadata": {
        "id": "6iQx7JwSC5YN",
        "colab_type": "text"
      },
      "cell_type": "markdown",
      "source": [
        "Use the ```plot``` function to plot the 2D data."
      ]
    },
    {
      "metadata": {
        "id": "785Ygz4VC5YO",
        "colab_type": "code",
        "outputId": "d33dfa8f-0f61-4eda-b975-1fead7f94bed",
        "colab": {
          "base_uri": "https://localhost:8080/",
          "height": 294
        }
      },
      "cell_type": "code",
      "source": [
        "plt.title(\"My Plot\")\n",
        "plt.plot([1,2,3,4])\n",
        "plt.ylabel('some numbers')\n",
        "plt.xlabel('different numbers')\n",
        "plt.show()\n",
        "#plt.savefig(<filename.png>)"
      ],
      "execution_count": 0,
      "outputs": [
        {
          "output_type": "display_data",
          "data": {
            "image/png": "[encoded data removed]",
            "text/plain": [
              "<matplotlib.figure.Figure at 0x7fd94ecb3128>"
            ]
          },
          "metadata": {
            "tags": []
          }
        }
      ]
    },
    {
      "metadata": {
        "id": "LP3vb2pcC5YP",
        "colab_type": "text"
      },
      "cell_type": "markdown",
      "source": [
        "The format of plot function is (x-axis values, y-axis values, style)"
      ]
    },
    {
      "metadata": {
        "id": "BQ2LV4x7C5YR",
        "colab_type": "code",
        "outputId": "9d9d82e6-7fb3-45f0-c4d5-8e7297b99446",
        "colab": {
          "base_uri": "https://localhost:8080/",
          "height": 269
        }
      },
      "cell_type": "code",
      "source": [
        "plt.plot([1,2,3,4], [1,4,9,16], 'r->') # Here r means red, o means circle\n",
        "plt.axis([0, 6, 0, 20]) # changes the default axis length\n",
        "plt.show()"
      ],
      "execution_count": 0,
      "outputs": [
        {
          "output_type": "display_data",
          "data": {
            "image/png": "[encoded data removed]",
            "text/plain": [
              "<matplotlib.figure.Figure at 0x7fd94c16a6d8>"
            ]
          },
          "metadata": {
            "tags": []
          }
        }
      ]
    },
    {
      "metadata": {
        "id": "RrFv2UD3C5YT",
        "colab_type": "text"
      },
      "cell_type": "markdown",
      "source": [
        "You can also plot multiple curves "
      ]
    },
    {
      "metadata": {
        "id": "0fH1LvT7C5YT",
        "colab_type": "code",
        "outputId": "efb4df57-91f3-4044-b9b0-b154d64664c0",
        "colab": {
          "base_uri": "https://localhost:8080/",
          "height": 294
        }
      },
      "cell_type": "code",
      "source": [
        "t = np.arange(0., 5., 0.2)\n",
        "\n",
        "plt.plot(t, t, 'r--')\n",
        "plt.plot(t, t**2, 'bs')\n",
        "plt.plot(t, t**3, 'g^')\n",
        "plt.xlabel('x axis label')\n",
        "plt.ylabel('y axis label')\n",
        "plt.title('Curves')\n",
        "plt.legend(['t', 't**2', 't**3'])\n",
        "plt.show()"
      ],
      "execution_count": 0,
      "outputs": [
        {
          "output_type": "display_data",
          "data": {
            "image/png": "[encoded data removed]",
            "text/plain": [
              "<matplotlib.figure.Figure at 0x7fd94c1bbe48>"
            ]
          },
          "metadata": {
            "tags": []
          }
        }
      ]
    },
    {
      "metadata": {
        "id": "61Iv18yPC5YV",
        "colab_type": "text"
      },
      "cell_type": "markdown",
      "source": [
        "You can plot different curves in the same figure using the ```subplot``` function. "
      ]
    },
    {
      "metadata": {
        "id": "0IVySDy0C5YV",
        "colab_type": "code",
        "outputId": "fd1a1a10-4324-411e-e67b-efc2d6a61d75",
        "colab": {
          "base_uri": "https://localhost:8080/",
          "height": 265
        }
      },
      "cell_type": "code",
      "source": [
        "def f(t):\n",
        "    return np.exp(-t) * np.cos(2*np.pi*t)\n",
        "\n",
        "t1 = np.arange(0.0, 5.0, 0.1)\n",
        "t2 = np.arange(0.0, 5.0, 0.02)\n",
        "\n",
        "plt.figure(1)\n",
        "plt.subplot(211)\n",
        "plt.plot(t1, f(t1), 'bo', t2, f(t2), 'k')\n",
        "\n",
        "plt.subplot(212)\n",
        "plt.plot(t2, np.cos(2*np.pi*t2), 'r--')\n",
        "\n",
        "plt.show()"
      ],
      "execution_count": 0,
      "outputs": [
        {
          "output_type": "display_data",
          "data": {
            "image/png": "[encoded data removed]",
            "text/plain": [
              "<matplotlib.figure.Figure at 0x7fd94eb96898>"
            ]
          },
          "metadata": {
            "tags": []
          }
        }
      ]
    },
    {
      "metadata": {
        "id": "uZDYOYm1C5YY",
        "colab_type": "text"
      },
      "cell_type": "markdown",
      "source": [
        "### More reading\n",
        "\n",
        "http://matplotlib.org/users/pyplot_tutorial.html"
      ]
    },
    {
      "metadata": {
        "id": "lP0-W_OIZWam",
        "colab_type": "text"
      },
      "cell_type": "markdown",
      "source": [
        "# Practice Problems"
      ]
    },
    {
      "metadata": {
        "id": "kkCKINpKZwi0",
        "colab_type": "text"
      },
      "cell_type": "markdown",
      "source": [
        "### 1."
      ]
    },
    {
      "metadata": {
        "id": "-qjDaOnyZjXc",
        "colab_type": "text"
      },
      "cell_type": "markdown",
      "source": [
        "Return the maximum number and the index of that number from an array of numbers"
      ]
    },
    {
      "metadata": {
        "id": "uh8F9agEa8cY",
        "colab_type": "code",
        "colab": {}
      },
      "cell_type": "code",
      "source": [
        "data = [123,-23,454,34,766,-2,0,25,-43,65]\n",
        "\n",
        "max_value = max(data)\n",
        "max_index = data.index(max_value)\n",
        "\n",
        "print(\"the max value is {0} which is found at index {1}\".format(max_value,max_index))\n"
      ],
      "execution_count": 0,
      "outputs": []
    },
    {
      "metadata": {
        "id": "bvzJHdSyc2nF",
        "colab_type": "text"
      },
      "cell_type": "markdown",
      "source": [
        "### 2."
      ]
    },
    {
      "metadata": {
        "id": "H93Y94RegNro",
        "colab_type": "text"
      },
      "cell_type": "markdown",
      "source": [
        "Plot a sin function as well as noise corrupted data from this sin function (as seen in class)"
      ]
    },
    {
      "metadata": {
        "id": "PldtdbE7gU_p",
        "colab_type": "code",
        "colab": {}
      },
      "cell_type": "code",
      "source": [
        "def sin_function(t):\n",
        "  \n",
        "  return np.sin(2*np.pi*t)\n",
        "\n",
        "t1 = np.arange(0,1,0.1)\n",
        "\n",
        "y = sin_function(t1)\n",
        "noise = np.random.normal(0,0.1,10)\n",
        "\n",
        "data = y + noise # data observed\n",
        "\n",
        "# origional data\n",
        "x_coords = np.arange(0,1,0.01)\n",
        "origional_data = sin_function(x_coords)\n",
        "\n",
        "plt.plot(t1,data,\"bo\") # plot observed data\n",
        "plt.plot(x_coords,origional_data) #plot origional data\n",
        "plt.title(\"Plot of noise corrupted data\") #give title\n",
        "plt.legend([\"obeserved data\",'true underlying function'])\n",
        "plt.show()"
      ],
      "execution_count": 0,
      "outputs": []
    },
    {
      "metadata": {
        "id": "4p2q0jsFl7tE",
        "colab_type": "text"
      },
      "cell_type": "markdown",
      "source": [
        "### 3.\n",
        "\n"
      ]
    },
    {
      "metadata": {
        "id": "cGdYetHrmN5G",
        "colab_type": "text"
      },
      "cell_type": "markdown",
      "source": [
        "Determine if an array is monotonic.\n",
        "<br>Example:<br>\n",
        "- [1,2,3,3,3,3,3,4,5,6,7] is monotonic (increasing)\n",
        "- [7,6,5,4,3,3,3,3,3,2,1] is monotonic (decreasing)\n",
        "- [1,5,4,3,3,3,3,3,2,6,7] is not monotonic"
      ]
    },
    {
      "metadata": {
        "id": "mM-1hRewnFEF",
        "colab_type": "code",
        "cellView": "code",
        "colab": {}
      },
      "cell_type": "code",
      "source": [
        "def isMonotonic(arr):\n",
        "    behaviour = None\n",
        "    for i in range(len(arr)-1):\n",
        "        b = arr[i] - arr[i+1]\n",
        "        if b > 0:\n",
        "            b = 1\n",
        "        if b < 0:\n",
        "            b = -1\n",
        "\n",
        "#         b = cmp(arr[i], arr[i+1])   cmp cannot be used in python 3 anymore \n",
        "        \n",
        "        \n",
        "        if b != 0:\n",
        "            if behaviour == None:\n",
        "                behaviour = b\n",
        "            else:\n",
        "                if behaviour != b:\n",
        "                    return False\n",
        "    return True"
      ],
      "execution_count": 0,
      "outputs": []
    },
    {
      "metadata": {
        "id": "Gpm2Lw5Jo5Jf",
        "colab_type": "code",
        "colab": {}
      },
      "cell_type": "code",
      "source": [
        "print (isMonotonic([1,5,4,3,3,3,3,3,2,6,7]))\n",
        "print (isMonotonic([7,6,5,4,3,3,3,3,3,2,1]))\n",
        "print (isMonotonic([1,1,1,1,1,1,1]))"
      ],
      "execution_count": 0,
      "outputs": []
    },
    {
      "metadata": {
        "id": "Qf6KUtPWpoOR",
        "colab_type": "text"
      },
      "cell_type": "markdown",
      "source": [
        "### 4."
      ]
    },
    {
      "metadata": {
        "id": "vYeCgjhLpqWy",
        "colab_type": "text"
      },
      "cell_type": "markdown",
      "source": [
        "Hard(er) problem for plotting using matplotlib"
      ]
    },
    {
      "metadata": {
        "id": "ahLe-TqQpwJ4",
        "colab_type": "text"
      },
      "cell_type": "markdown",
      "source": [
        "Plot the decision boundary for a circle of radius 2"
      ]
    },
    {
      "metadata": {
        "id": "9XD8ZeYkppmR",
        "colab_type": "code",
        "outputId": "9d888b31-0c95-43d1-85b3-d21472324280",
        "colab": {
          "base_uri": "https://localhost:8080/",
          "height": 294
        }
      },
      "cell_type": "code",
      "source": [
        "import matplotlib.colors as colors\n",
        "\n",
        "size_of_map = np.arange(-3,3,0.01)\n",
        "xx, yy = np.meshgrid(size_of_map,size_of_map) # gives a rectangular grid out of \n",
        "                                              # input values\n",
        "\n",
        "# our data is generated randomly from the uniform random distribution\n",
        "x0 = np.random.uniform(-3,3,100)\n",
        "x1 = np.random.uniform(-3,3,100)\n",
        "\n",
        "# the underlying classification function, note that it has small gaussian noise\n",
        "def true_function(x0,x1):\n",
        "  \n",
        "  return x0**2 + x1**2 + np.random.normal(0,1) <= 4 \n",
        "\n",
        "y = true_function(x0,x1) #the true predictions for our data\n",
        "\n",
        "\n",
        "# our classifier, just the circle without the gaussian noise\n",
        "def classifier(x0,x1):\n",
        "  \n",
        "  return x0**2 + x1**2 <= 4\n",
        "  \n",
        "z = classifier(xx,yy) # our classifier applied to the entire grid \n",
        "\n",
        "\n",
        "cm_bright = colors.ListedColormap(['#FF0000', '#0000FF']) #just colors\n",
        "plt.contourf(xx,yy,z,alpha=0.4,cmap=cm_bright) #plot the contours using our classifier results\n",
        "plt.scatter(x0,x1,c=y,s=20,cmap = cm_bright) #scatter plot of true data\n",
        "\n",
        "# labelling the plot\n",
        "plt.xlabel(\"x0\")\n",
        "plt.ylabel(\"x1\")\n",
        "plt.title(\"Classifier boundries vs true data results\")\n",
        "plt.show()"
      ],
      "execution_count": 0,
      "outputs": [
        {
          "output_type": "display_data",
          "data": {
            "image/png": "[encoded data removed]",
            "text/plain": [
              "<matplotlib.figure.Figure at 0x7f85020f8630>"
            ]
          },
          "metadata": {
            "tags": []
          }
        }
      ]
    }
  ]
}