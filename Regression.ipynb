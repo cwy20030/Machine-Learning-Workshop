{
  "nbformat": 4,
  "nbformat_minor": 0,
  "metadata": {
    "colab": {
      "name": "Regression.ipynb",
      "version": "0.3.2",
      "provenance": [],
      "include_colab_link": true
    },
    "kernelspec": {
      "display_name": "Python 3",
      "language": "python",
      "name": "python3"
    }
  },
  "cells": [
    {
      "cell_type": "markdown",
      "metadata": {
        "id": "view-in-github",
        "colab_type": "text"
      },
      "source": [
        "<a href=\"https://colab.research.google.com/github/cwy20030/Machine-Learning-Workshop/blob/master/Regression.ipynb\" target=\"_parent\"><img src=\"https://colab.research.google.com/assets/colab-badge.svg\" alt=\"Open In Colab\"/></a>"
      ]
    },
    {
      "metadata": {
        "id": "iH0a2FTcnQB6",
        "colab_type": "text"
      },
      "cell_type": "markdown",
      "source": [
        "***Diabetes dataset regression***\n",
        "\n",
        "In this tutorial, we will learn how to perform regression using scikit-learn. The target variable is in the range 25-346, with 10 features distributed in the range of -0.2 and 0.2 and with 442 examples in total. Each example is an 1 * 10 vector."
      ]
    },
    {
      "metadata": {
        "id": "GZAC-uyBnQB9",
        "colab_type": "text"
      },
      "cell_type": "markdown",
      "source": [
        "Importing relevant packages and loading the dataset"
      ]
    },
    {
      "metadata": {
        "id": "JxAFH3sonQCA",
        "colab_type": "code",
        "colab": {}
      },
      "cell_type": "code",
      "source": [
        "import matplotlib.pyplot as plt\n",
        "import numpy as np\n",
        "from sklearn import datasets, linear_model\n",
        "from sklearn.metrics import mean_squared_error, r2_score\n",
        "from sklearn.neighbors import KNeighborsClassifier\n",
        "from sklearn import tree\n",
        "from sklearn.metrics import accuracy_score\n",
        "\n",
        "# Load the diabetes dataset\n",
        "diabetes = datasets.load_diabetes()"
      ],
      "execution_count": 0,
      "outputs": []
    },
    {
      "metadata": {
        "id": "tZmNQlFJnQCO",
        "colab_type": "text"
      },
      "cell_type": "markdown",
      "source": [
        "In the below snippet we can chose to either select a particular feature (wait!! how do we select a particular feature?) or all the features. Also, we split the dataset into train and test."
      ]
    },
    {
      "metadata": {
        "id": "QEZFa5eYnQCQ",
        "colab_type": "code",
        "outputId": "b7aeaa48-bca8-4a37-8df7-0ba18836ead9",
        "colab": {
          "base_uri": "https://localhost:8080/",
          "height": 34
        }
      },
      "cell_type": "code",
      "source": [
        "# Use only one feature\n",
        "#diabetes_X = diabetes.data[:,]\n",
        "d_M = np.matrix(diabetes.data)\n",
        "diabetes_X = d_M[:]\n",
        "#print(diabetes_X.shape, type(diabetes.data))\n",
        "\n",
        "# Split the data into training/testing sets\n",
        "diabetes_X_train = diabetes_X[:-20]\n",
        "diabetes_X_test = diabetes_X[-20:]\n",
        "\n",
        "# X_train, X_test = [], []\n",
        "# for i in range(len(diabetes_X)):\n",
        "# r = np.random.rand() ~[0,1]\n",
        "# 70-30 \n",
        "# if r>0.6:\n",
        "#     X_test+=[diabetes_X[i]]\n",
        "#   else:\n",
        "#      X_train+=[diabetes_X[i]]\n",
        "#   \n",
        "# Split the targets into training/testing sets\n",
        "\n",
        "#Low-sugar : 0 : 25 and 105\n",
        "#Normal: 1 : 105 and 155\n",
        "# High: 2 : >155\n",
        "diabetes_y_train = diabetes.target[:-20]\n",
        "diabetes_y_test = diabetes.target[-20:]\n",
        "C_diabetes_y_train = np.zeros((422,1))\n",
        "C_diabetes_y_test = np.zeros((20,1))\n",
        "#\n",
        "print(diabetes_y_train.shape)\n",
        "for i in range(diabetes_y_train.shape[0]):\n",
        "  if diabetes_y_train[i] < 105:\n",
        "    C_diabetes_y_train[i,0] = 0\n",
        "  elif diabetes_y_train[i] > 155:\n",
        "    C_diabetes_y_train[i,0] = 2\n",
        "  else:\n",
        "    C_diabetes_y_train[i,0] = 1\n",
        "    "
      ],
      "execution_count": 0,
      "outputs": [
        {
          "output_type": "stream",
          "text": [
            "(422,)\n"
          ],
          "name": "stdout"
        }
      ]
    },
    {
      "metadata": {
        "id": "yNfaB45td-8Q",
        "colab_type": "code",
        "outputId": "cfbac1ad-ea55-4e83-827b-8c6c86854640",
        "colab": {
          "base_uri": "https://localhost:8080/",
          "height": 34
        }
      },
      "cell_type": "code",
      "source": [
        "print(C_diabetes_y_train.shape, diabetes_X_train.shape)\n",
        "def binns(array_1,array_2):\n",
        "  for i in range(array_1.shape[0]):\n",
        "    if array_2[i] < 105:\n",
        "      array_1[i,0] = 0\n",
        "    elif array_2[i] > 155:\n",
        "      array_1[i,0] = 2\n",
        "    else:\n",
        "      array_1[i,0] = 1\n",
        "  return array_1"
      ],
      "execution_count": 0,
      "outputs": [
        {
          "output_type": "stream",
          "text": [
            "(422, 1) (422, 10)\n"
          ],
          "name": "stdout"
        }
      ]
    },
    {
      "metadata": {
        "id": "p84ZsTadV08z",
        "colab_type": "code",
        "colab": {}
      },
      "cell_type": "code",
      "source": [
        "#model = KNeighborsClassifier(n_neighbors = 3)#NearestNeighbors(n_neighbors=1)\n",
        "model = tree.DecisionTreeClassifier(max_depth = 3)"
      ],
      "execution_count": 0,
      "outputs": []
    },
    {
      "metadata": {
        "id": "plBk21_SnQCU",
        "colab_type": "code",
        "outputId": "c94f702b-be1a-45be-a0e3-1b2f0174721c",
        "colab": {
          "base_uri": "https://localhost:8080/",
          "height": 122
        }
      },
      "cell_type": "code",
      "source": [
        "#regr = linear_model.LinearRegression(fit_intercept = True, normalize = True)\n",
        "model.fit(diabetes_X_train,C_diabetes_y_train)"
      ],
      "execution_count": 0,
      "outputs": [
        {
          "output_type": "execute_result",
          "data": {
            "text/plain": [
              "DecisionTreeClassifier(class_weight=None, criterion='gini', max_depth=3,\n",
              "            max_features=None, max_leaf_nodes=None,\n",
              "            min_impurity_decrease=0.0, min_impurity_split=None,\n",
              "            min_samples_leaf=1, min_samples_split=2,\n",
              "            min_weight_fraction_leaf=0.0, presort=False, random_state=None,\n",
              "            splitter='best')"
            ]
          },
          "metadata": {
            "tags": []
          },
          "execution_count": 78
        }
      ]
    },
    {
      "metadata": {
        "id": "VTPrQJFEnQCb",
        "colab_type": "code",
        "outputId": "58d2ae89-e217-467c-e57a-6b4472b2cd23",
        "colab": {
          "base_uri": "https://localhost:8080/",
          "height": 34
        }
      },
      "cell_type": "code",
      "source": [
        "#regr.fit(diabetes_X_train, diabetes_y_train)"
      ],
      "execution_count": 0,
      "outputs": [
        {
          "output_type": "execute_result",
          "data": {
            "text/plain": [
              "LinearRegression(copy_X=True, fit_intercept=True, n_jobs=1, normalize=True)"
            ]
          },
          "metadata": {
            "tags": []
          },
          "execution_count": 31
        }
      ]
    },
    {
      "metadata": {
        "id": "uMBt60dtnQCv",
        "colab_type": "code",
        "colab": {}
      },
      "cell_type": "code",
      "source": [
        "diabetes_y_pred = model.predict(diabetes_X_test)"
      ],
      "execution_count": 0,
      "outputs": []
    },
    {
      "metadata": {
        "id": "VrXVqSJ7nQC3",
        "colab_type": "text"
      },
      "cell_type": "markdown",
      "source": [
        "Printing the coefficients. Wait! hmmm... feature selection !"
      ]
    },
    {
      "metadata": {
        "id": "sTTxGTXJnQC6",
        "colab_type": "code",
        "outputId": "18492cfc-84fd-4576-e485-e0593faca6c0",
        "colab": {
          "base_uri": "https://localhost:8080/",
          "height": 87
        }
      },
      "cell_type": "code",
      "source": [
        "# The coefficients\n",
        "print('Coefficients: \\n', regr.coef_)"
      ],
      "execution_count": 0,
      "outputs": [
        {
          "output_type": "stream",
          "text": [
            "Coefficients: \n",
            " [ 3.03499549e-01 -2.37639315e+02  5.10530605e+02  3.27736980e+02\n",
            " -8.14131709e+02  4.92814588e+02  1.02848452e+02  1.84606489e+02\n",
            "  7.43519617e+02  7.60951722e+01]\n"
          ],
          "name": "stdout"
        }
      ]
    },
    {
      "metadata": {
        "id": "Zl2HnsLnnQDH",
        "colab_type": "text"
      },
      "cell_type": "markdown",
      "source": [
        "Performance metrics"
      ]
    },
    {
      "metadata": {
        "id": "glwnl6SpnQDK",
        "colab_type": "code",
        "outputId": "7375f276-979b-4acc-9972-755a3294e339",
        "colab": {
          "base_uri": "https://localhost:8080/",
          "height": 34
        }
      },
      "cell_type": "code",
      "source": [
        "#print(\"Mean squared error: %.2f\"\n",
        "#      % mean_squared_error(diabetes_y_test, diabetes_y_pred))\n",
        "\n",
        "# 1\n",
        "# 1-2\n",
        "# 1-3\n",
        "#... 1-10\n",
        "\n",
        "print('Accuracy Measure', accuracy_score(diabetes_y_pred, C_diabetes_y_test))\n",
        "#print(diabetes_y_train)"
      ],
      "execution_count": 0,
      "outputs": [
        {
          "output_type": "stream",
          "text": [
            "Accuracy Measure 0.7\n"
          ],
          "name": "stdout"
        }
      ]
    },
    {
      "metadata": {
        "id": "xe0uvV9Ef65p",
        "colab_type": "code",
        "outputId": "70cb46d5-5d65-474c-b822-dbb50dab6adf",
        "colab": {
          "base_uri": "https://localhost:8080/",
          "height": 1157
        }
      },
      "cell_type": "code",
      "source": [
        "tree.export_graphviz(model,out_file='rules.out')\n",
        "f = open('rules.out','r')\n",
        "fp = f.readlines()\n",
        "#D = np.zeros(100,10)\n",
        "print(fp)\n",
        "line_index = 0\n",
        "for line in fp: \n",
        "  print(line)"
      ],
      "execution_count": 0,
      "outputs": [
        {
          "output_type": "stream",
          "text": [
            "['digraph Tree {\\n', 'node [shape=box] ;\\n', '0 [label=\"X[8] <= -0.004\\\\ngini = 0.639\\\\nsamples = 422\\\\nvalue = [150, 87, 185]\"] ;\\n', '1 [label=\"X[2] <= 0.006\\\\ngini = 0.577\\\\nsamples = 206\\\\nvalue = [119, 44, 43]\"] ;\\n', '0 -> 1 [labeldistance=2.5, labelangle=45, headlabel=\"True\"] ;\\n', '2 [label=\"X[6] <= 0.021\\\\ngini = 0.479\\\\nsamples = 159\\\\nvalue = [109, 29, 21]\"] ;\\n', '1 -> 2 ;\\n', '3 [label=\"gini = 0.58\\\\nsamples = 82\\\\nvalue = [47, 18, 17]\"] ;\\n', '2 -> 3 ;\\n', '4 [label=\"gini = 0.329\\\\nsamples = 77\\\\nvalue = [62, 11, 4]\"] ;\\n', '2 -> 4 ;\\n', '5 [label=\"X[0] <= -0.025\\\\ngini = 0.634\\\\nsamples = 47\\\\nvalue = [10, 15, 22]\"] ;\\n', '1 -> 5 ;\\n', '6 [label=\"gini = 0.494\\\\nsamples = 18\\\\nvalue = [4, 2, 12]\"] ;\\n', '5 -> 6 ;\\n', '7 [label=\"gini = 0.637\\\\nsamples = 29\\\\nvalue = [6, 13, 10]\"] ;\\n', '5 -> 7 ;\\n', '8 [label=\"X[2] <= 0.015\\\\ngini = 0.508\\\\nsamples = 216\\\\nvalue = [31, 43, 142]\"] ;\\n', '0 -> 8 [labeldistance=2.5, labelangle=-45, headlabel=\"False\"] ;\\n', '9 [label=\"X[8] <= 0.001\\\\ngini = 0.621\\\\nsamples = 113\\\\nvalue = [25, 31, 57]\"] ;\\n', '8 -> 9 ;\\n', '10 [label=\"gini = 0.406\\\\nsamples = 8\\\\nvalue = [1, 6, 1]\"] ;\\n', '9 -> 10 ;\\n', '11 [label=\"gini = 0.607\\\\nsamples = 105\\\\nvalue = [24, 25, 56]\"] ;\\n', '9 -> 11 ;\\n', '12 [label=\"X[3] <= 0.017\\\\ngini = 0.302\\\\nsamples = 103\\\\nvalue = [6, 12, 85]\"] ;\\n', '8 -> 12 ;\\n', '13 [label=\"gini = 0.528\\\\nsamples = 41\\\\nvalue = [6, 9, 26]\"] ;\\n', '12 -> 13 ;\\n', '14 [label=\"gini = 0.092\\\\nsamples = 62\\\\nvalue = [0, 3, 59]\"] ;\\n', '12 -> 14 ;\\n', '}']\n",
            "digraph Tree {\n",
            "\n",
            "node [shape=box] ;\n",
            "\n",
            "0 [label=\"X[8] <= -0.004\\ngini = 0.639\\nsamples = 422\\nvalue = [150, 87, 185]\"] ;\n",
            "\n",
            "1 [label=\"X[2] <= 0.006\\ngini = 0.577\\nsamples = 206\\nvalue = [119, 44, 43]\"] ;\n",
            "\n",
            "0 -> 1 [labeldistance=2.5, labelangle=45, headlabel=\"True\"] ;\n",
            "\n",
            "2 [label=\"X[6] <= 0.021\\ngini = 0.479\\nsamples = 159\\nvalue = [109, 29, 21]\"] ;\n",
            "\n",
            "1 -> 2 ;\n",
            "\n",
            "3 [label=\"gini = 0.58\\nsamples = 82\\nvalue = [47, 18, 17]\"] ;\n",
            "\n",
            "2 -> 3 ;\n",
            "\n",
            "4 [label=\"gini = 0.329\\nsamples = 77\\nvalue = [62, 11, 4]\"] ;\n",
            "\n",
            "2 -> 4 ;\n",
            "\n",
            "5 [label=\"X[0] <= -0.025\\ngini = 0.634\\nsamples = 47\\nvalue = [10, 15, 22]\"] ;\n",
            "\n",
            "1 -> 5 ;\n",
            "\n",
            "6 [label=\"gini = 0.494\\nsamples = 18\\nvalue = [4, 2, 12]\"] ;\n",
            "\n",
            "5 -> 6 ;\n",
            "\n",
            "7 [label=\"gini = 0.637\\nsamples = 29\\nvalue = [6, 13, 10]\"] ;\n",
            "\n",
            "5 -> 7 ;\n",
            "\n",
            "8 [label=\"X[2] <= 0.015\\ngini = 0.508\\nsamples = 216\\nvalue = [31, 43, 142]\"] ;\n",
            "\n",
            "0 -> 8 [labeldistance=2.5, labelangle=-45, headlabel=\"False\"] ;\n",
            "\n",
            "9 [label=\"X[8] <= 0.001\\ngini = 0.621\\nsamples = 113\\nvalue = [25, 31, 57]\"] ;\n",
            "\n",
            "8 -> 9 ;\n",
            "\n",
            "10 [label=\"gini = 0.406\\nsamples = 8\\nvalue = [1, 6, 1]\"] ;\n",
            "\n",
            "9 -> 10 ;\n",
            "\n",
            "11 [label=\"gini = 0.607\\nsamples = 105\\nvalue = [24, 25, 56]\"] ;\n",
            "\n",
            "9 -> 11 ;\n",
            "\n",
            "12 [label=\"X[3] <= 0.017\\ngini = 0.302\\nsamples = 103\\nvalue = [6, 12, 85]\"] ;\n",
            "\n",
            "8 -> 12 ;\n",
            "\n",
            "13 [label=\"gini = 0.528\\nsamples = 41\\nvalue = [6, 9, 26]\"] ;\n",
            "\n",
            "12 -> 13 ;\n",
            "\n",
            "14 [label=\"gini = 0.092\\nsamples = 62\\nvalue = [0, 3, 59]\"] ;\n",
            "\n",
            "12 -> 14 ;\n",
            "\n",
            "}\n"
          ],
          "name": "stdout"
        }
      ]
    },
    {
      "metadata": {
        "id": "Q5ct6yNZnQDT",
        "colab_type": "text"
      },
      "cell_type": "markdown",
      "source": [
        "Plotting the linear function on the dataset"
      ]
    },
    {
      "metadata": {
        "id": "21t_AGN7nQDV",
        "colab_type": "code",
        "outputId": "552c46df-bed5-450c-c035-7b7bd2b7461e",
        "colab": {
          "base_uri": "https://localhost:8080/",
          "height": 347
        }
      },
      "cell_type": "code",
      "source": [
        "# Plot outputs\n",
        "plt.scatter(diabetes_X_test, diabetes_y_test,  color='black')\n",
        "plt.plot(diabetes_X_test, diabetes_y_pred, color='blue', linewidth=3)\n",
        "\n",
        "#plt.xticks(())\n",
        "#plt.yticks(())\n",
        "\n",
        "plt.show()"
      ],
      "execution_count": 0,
      "outputs": [
        {
          "output_type": "display_data",
          "data": {
            "image/png": "[encoded data removed]",
            "text/plain": [
              "<matplotlib.figure.Figure at 0x7f90ad8f0b38>"
            ]
          },
          "metadata": {
            "tags": []
          }
        }
      ]
    }
  ]
}